{
  "nbformat": 4,
  "nbformat_minor": 0,
  "metadata": {
    "colab": {
      "name": "Brito-lab06-problem5-5.3-using-a-pretrained-convnet.ipynb",
      "version": "0.3.2",
      "provenance": [],
      "collapsed_sections": [],
      "include_colab_link": true
    },
    "kernelspec": {
      "name": "python3",
      "display_name": "Python 3"
    },
    "accelerator": "GPU"
  },
  "cells": [
    {
      "cell_type": "markdown",
      "metadata": {
        "id": "view-in-github",
        "colab_type": "text"
      },
      "source": [
        "<a href=\"https://colab.research.google.com/github/brito-rafa/DeepLearningIntro/blob/master/Brito_lab06_problem5_5_3_using_a_pretrained_convnet.ipynb\" target=\"_parent\"><img src=\"https://colab.research.google.com/assets/colab-badge.svg\" alt=\"Open In Colab\"/></a>"
      ]
    },
    {
      "metadata": {
        "id": "UqBT2D3k0UPa",
        "colab_type": "code",
        "outputId": "495b6262-ad50-42f7-a23b-4de52368f23d",
        "colab": {
          "base_uri": "https://localhost:8080/",
          "height": 51
        }
      },
      "cell_type": "code",
      "source": [
        "import keras\n",
        "keras.__version__"
      ],
      "execution_count": 0,
      "outputs": [
        {
          "output_type": "stream",
          "text": [
            "Using TensorFlow backend.\n"
          ],
          "name": "stderr"
        },
        {
          "output_type": "execute_result",
          "data": {
            "text/plain": [
              "'2.2.4'"
            ]
          },
          "metadata": {
            "tags": []
          },
          "execution_count": 1
        }
      ]
    },
    {
      "metadata": {
        "id": "ak6LkRHb7Q26",
        "colab_type": "code",
        "outputId": "ca004254-e7d6-4520-93f7-f7eedc8543ff",
        "colab": {
          "base_uri": "https://localhost:8080/",
          "height": 34
        }
      },
      "cell_type": "code",
      "source": [
        "import tensorflow as tf\n",
        "device_name = tf.test.gpu_device_name()\n",
        "if device_name != '/device:GPU:0':\n",
        "  raise SystemError('GPU device not found')\n",
        "print('Found GPU at: {}'.format(device_name))"
      ],
      "execution_count": 0,
      "outputs": [
        {
          "output_type": "stream",
          "text": [
            "Found GPU at: /device:GPU:0\n"
          ],
          "name": "stdout"
        }
      ]
    },
    {
      "metadata": {
        "id": "JOpskpVLCyww",
        "colab_type": "code",
        "outputId": "aa9d5ac5-113c-43b7-ca15-4fa0ae07fb0f",
        "colab": {
          "base_uri": "https://localhost:8080/",
          "height": 189
        }
      },
      "cell_type": "code",
      "source": [
        "from google.colab import drive\n",
        "drive.mount('/content/gdrive')"
      ],
      "execution_count": 0,
      "outputs": [
        {
          "output_type": "stream",
          "text": [
            "Go to this URL in a browser: https://accounts.google.com/o/oauth2/auth?client_id=947318989803-6bn6qk8qdgf4n4g3pfee6491hc0brc4i.apps.googleusercontent.com&redirect_uri=urn%3Aietf%3Awg%3Aoauth%3A2.0%3Aoob&scope=email%20https%3A%2F%2Fwww.googleapis.com%2Fauth%2Fdocs.test%20https%3A%2F%2Fwww.googleapis.com%2Fauth%2Fdrive%20https%3A%2F%2Fwww.googleapis.com%2Fauth%2Fdrive.photos.readonly%20https%3A%2F%2Fwww.googleapis.com%2Fauth%2Fpeopleapi.readonly&response_type=code\n",
            "\n",
            "Enter your authorization code:\n",
            "··········\n",
            "Mounted at /content/gdrive\n"
          ],
          "name": "stdout"
        }
      ]
    },
    {
      "metadata": {
        "id": "jxAA89y4Dkkr",
        "colab_type": "code",
        "outputId": "65264277-29e1-4b33-96bf-d907ab2e38fb",
        "colab": {
          "base_uri": "https://localhost:8080/",
          "height": 63
        }
      },
      "cell_type": "code",
      "source": [
        "!ls /content/gdrive/My\\ Drive/datasets/cats_and_dogs/cats_and_dogs_small"
      ],
      "execution_count": 0,
      "outputs": [
        {
          "output_type": "stream",
          "text": [
            "test  train  validation\n"
          ],
          "name": "stdout"
        }
      ]
    },
    {
      "metadata": {
        "id": "n6b-h59D0URZ",
        "colab_type": "text"
      },
      "cell_type": "markdown",
      "source": [
        "# Using a pre-trained convnet\n",
        "\n",
        "This notebook contains the code sample found in Chapter 5, Section 3 of [Deep Learning with Python](https://www.manning.com/books/deep-learning-with-python?a_aid=keras&a_bid=76564dff). Note that the original text features far more content, in particular further explanations and figures: in this notebook, you will only find source code and related comments.\n",
        "\n",
        "----\n",
        "\n",
        "A common and highly effective approach to deep learning on small image datasets is to leverage a pre-trained network. A pre-trained network \n",
        "is simply a saved network previously trained on a large dataset, typically on a large-scale image classification task. If this original \n",
        "dataset is large enough and general enough, then the spatial feature hierarchy learned by the pre-trained network can effectively act as a \n",
        "generic model of our visual world, and hence its features can prove useful for many different computer vision problems, even though these \n",
        "new problems might involve completely different classes from those of the original task. For instance, one might train a network on \n",
        "ImageNet (where classes are mostly animals and everyday objects) and then re-purpose this trained network for something as remote as \n",
        "identifying furniture items in images. Such portability of learned features across different problems is a key advantage of deep learning \n",
        "compared to many older shallow learning approaches, and it makes deep learning very effective for small-data problems.\n",
        "\n",
        "In our case, we will consider a large convnet trained on the ImageNet dataset (1.4 million labeled images and 1000 different classes). \n",
        "ImageNet contains many animal classes, including different species of cats and dogs, and we can thus expect to perform very well on our cat \n",
        "vs. dog classification problem.\n",
        "\n",
        "We will use the VGG16 architecture, developed by Karen Simonyan and Andrew Zisserman in 2014, a simple and widely used convnet architecture \n",
        "for ImageNet. Although it is a bit of an older model, far from the current state of the art and somewhat heavier than many other recent \n",
        "models, we chose it because its architecture is similar to what you are already familiar with, and easy to understand without introducing \n",
        "any new concepts. This may be your first encounter with one of these cutesie model names -- VGG, ResNet, Inception, Inception-ResNet, \n",
        "Xception... you will get used to them, as they will come up frequently if you keep doing deep learning for computer vision.\n",
        "\n",
        "There are two ways to leverage a pre-trained network: *feature extraction* and *fine-tuning*. We will cover both of them. Let's start with \n",
        "feature extraction."
      ]
    },
    {
      "metadata": {
        "id": "BhrBeyqN0UR2",
        "colab_type": "text"
      },
      "cell_type": "markdown",
      "source": [
        "## Feature extraction\n",
        "\n",
        "Feature extraction consists of using the representations learned by a previous network to extract interesting features from new samples. \n",
        "These features are then run through a new classifier, which is trained from scratch.\n",
        "\n",
        "As we saw previously, convnets used for image classification comprise two parts: they start with a series of pooling and convolution \n",
        "layers, and they end with a densely-connected classifier. The first part is called the \"convolutional base\" of the model. In the case of \n",
        "convnets, \"feature extraction\" will simply consist of taking the convolutional base of a previously-trained network, running the new data \n",
        "through it, and training a new classifier on top of the output.\n",
        "\n",
        "![swapping FC classifiers](https://s3.amazonaws.com/book.keras.io/img/ch5/swapping_fc_classifier.png)\n",
        "\n",
        "Why only reuse the convolutional base? Could we reuse the densely-connected classifier as well? In general, it should be avoided. The \n",
        "reason is simply that the representations learned by the convolutional base are likely to be more generic and therefore more reusable: the \n",
        "feature maps of a convnet are presence maps of generic concepts over a picture, which is likely to be useful regardless of the computer \n",
        "vision problem at hand. On the other end, the representations learned by the classifier will necessarily be very specific to the set of \n",
        "classes that the model was trained on -- they will only contain information about the presence probability of this or that class in the \n",
        "entire picture. Additionally, representations found in densely-connected layers no longer contain any information about _where_ objects are \n",
        "located in the input image: these layers get rid of the notion of space, whereas the object location is still described by convolutional \n",
        "feature maps. For problems where object location matters, densely-connected features would be largely useless.\n",
        "\n",
        "Note that the level of generality (and therefore reusability) of the representations extracted by specific convolution layers depends on \n",
        "the depth of the layer in the model. Layers that come earlier in the model extract local, highly generic feature maps (such as visual \n",
        "edges, colors, and textures), while layers higher-up extract more abstract concepts (such as \"cat ear\" or \"dog eye\"). So if your new \n",
        "dataset differs a lot from the dataset that the original model was trained on, you may be better off using only the first few layers of the \n",
        "model to do feature extraction, rather than using the entire convolutional base.\n",
        "\n",
        "In our case, since the ImageNet class set did contain multiple dog and cat classes, it is likely that it would be beneficial to reuse the \n",
        "information contained in the densely-connected layers of the original model. However, we will chose not to, in order to cover the more \n",
        "general case where the class set of the new problem does not overlap with the class set of the original model."
      ]
    },
    {
      "metadata": {
        "id": "BG1JgX5O0USw",
        "colab_type": "text"
      },
      "cell_type": "markdown",
      "source": [
        "Let's put this in practice by using the convolutional base of the VGG16 network, trained on ImageNet, to extract interesting features from \n",
        "our cat and dog images, and then training a cat vs. dog classifier on top of these features.\n",
        "\n",
        "The VGG16 model, among others, comes pre-packaged with Keras. You can import it from the `keras.applications` module. Here's the list of \n",
        "image classification models (all pre-trained on the ImageNet dataset) that are available as part of `keras.applications`:\n",
        "\n",
        "* Xception\n",
        "* InceptionV3\n",
        "* ResNet50\n",
        "* VGG16\n",
        "* VGG19\n",
        "* MobileNet\n",
        "\n",
        "Let's instantiate the VGG16 model:"
      ]
    },
    {
      "metadata": {
        "id": "h71H0fUH0UTH",
        "colab_type": "code",
        "outputId": "d7ec8abb-eded-4072-e2b8-294ff2d90afb",
        "colab": {
          "base_uri": "https://localhost:8080/",
          "height": 225
        }
      },
      "cell_type": "code",
      "source": [
        "from keras.applications import VGG16\n",
        "\n",
        "conv_base = VGG16(weights='imagenet',\n",
        "                  include_top=False,\n",
        "                  input_shape=(150, 150, 3))"
      ],
      "execution_count": 0,
      "outputs": [
        {
          "output_type": "stream",
          "text": [
            "Using TensorFlow backend.\n"
          ],
          "name": "stderr"
        },
        {
          "output_type": "stream",
          "text": [
            "WARNING:tensorflow:From /usr/local/lib/python3.6/dist-packages/tensorflow/python/framework/op_def_library.py:263: colocate_with (from tensorflow.python.framework.ops) is deprecated and will be removed in a future version.\n",
            "Instructions for updating:\n",
            "Colocations handled automatically by placer.\n",
            "Downloading data from https://github.com/fchollet/deep-learning-models/releases/download/v0.1/vgg16_weights_tf_dim_ordering_tf_kernels_notop.h5\n",
            "58892288/58889256 [==============================] - 1s 0us/step\n"
          ],
          "name": "stdout"
        }
      ]
    },
    {
      "metadata": {
        "id": "4KsFy4Pz0UUA",
        "colab_type": "text"
      },
      "cell_type": "markdown",
      "source": [
        "We passed three arguments to the constructor:\n",
        "\n",
        "* `weights`, to specify which weight checkpoint to initialize the model from\n",
        "* `include_top`, which refers to including or not the densely-connected classifier on top of the network. By default, this \n",
        "densely-connected classifier would correspond to the 1000 classes from ImageNet. Since we intend to use our own densely-connected \n",
        "classifier (with only two classes, cat and dog), we don't need to include it.\n",
        "* `input_shape`, the shape of the image tensors that we will feed to the network. This argument is purely optional: if we don't pass it, \n",
        "then the network will be able to process inputs of any size.\n",
        "\n",
        "Here's the detail of the architecture of the VGG16 convolutional base: it's very similar to the simple convnets that you are already \n",
        "familiar with."
      ]
    },
    {
      "metadata": {
        "id": "X3YchjIO0UUC",
        "colab_type": "code",
        "outputId": "89424528-b4d8-45d1-a6fc-6f66f65fa083",
        "colab": {
          "base_uri": "https://localhost:8080/",
          "height": 782
        }
      },
      "cell_type": "code",
      "source": [
        "conv_base.summary()"
      ],
      "execution_count": 0,
      "outputs": [
        {
          "output_type": "stream",
          "text": [
            "_________________________________________________________________\n",
            "Layer (type)                 Output Shape              Param #   \n",
            "=================================================================\n",
            "input_1 (InputLayer)         (None, 150, 150, 3)       0         \n",
            "_________________________________________________________________\n",
            "block1_conv1 (Conv2D)        (None, 150, 150, 64)      1792      \n",
            "_________________________________________________________________\n",
            "block1_conv2 (Conv2D)        (None, 150, 150, 64)      36928     \n",
            "_________________________________________________________________\n",
            "block1_pool (MaxPooling2D)   (None, 75, 75, 64)        0         \n",
            "_________________________________________________________________\n",
            "block2_conv1 (Conv2D)        (None, 75, 75, 128)       73856     \n",
            "_________________________________________________________________\n",
            "block2_conv2 (Conv2D)        (None, 75, 75, 128)       147584    \n",
            "_________________________________________________________________\n",
            "block2_pool (MaxPooling2D)   (None, 37, 37, 128)       0         \n",
            "_________________________________________________________________\n",
            "block3_conv1 (Conv2D)        (None, 37, 37, 256)       295168    \n",
            "_________________________________________________________________\n",
            "block3_conv2 (Conv2D)        (None, 37, 37, 256)       590080    \n",
            "_________________________________________________________________\n",
            "block3_conv3 (Conv2D)        (None, 37, 37, 256)       590080    \n",
            "_________________________________________________________________\n",
            "block3_pool (MaxPooling2D)   (None, 18, 18, 256)       0         \n",
            "_________________________________________________________________\n",
            "block4_conv1 (Conv2D)        (None, 18, 18, 512)       1180160   \n",
            "_________________________________________________________________\n",
            "block4_conv2 (Conv2D)        (None, 18, 18, 512)       2359808   \n",
            "_________________________________________________________________\n",
            "block4_conv3 (Conv2D)        (None, 18, 18, 512)       2359808   \n",
            "_________________________________________________________________\n",
            "block4_pool (MaxPooling2D)   (None, 9, 9, 512)         0         \n",
            "_________________________________________________________________\n",
            "block5_conv1 (Conv2D)        (None, 9, 9, 512)         2359808   \n",
            "_________________________________________________________________\n",
            "block5_conv2 (Conv2D)        (None, 9, 9, 512)         2359808   \n",
            "_________________________________________________________________\n",
            "block5_conv3 (Conv2D)        (None, 9, 9, 512)         2359808   \n",
            "_________________________________________________________________\n",
            "block5_pool (MaxPooling2D)   (None, 4, 4, 512)         0         \n",
            "=================================================================\n",
            "Total params: 14,714,688\n",
            "Trainable params: 14,714,688\n",
            "Non-trainable params: 0\n",
            "_________________________________________________________________\n"
          ],
          "name": "stdout"
        }
      ]
    },
    {
      "metadata": {
        "id": "xXgRPTvQ0UUn",
        "colab_type": "text"
      },
      "cell_type": "markdown",
      "source": [
        "The final feature map has shape `(4, 4, 512)`. That's the feature on top of which we will stick a densely-connected classifier.\n",
        "\n",
        "At this point, there are two ways we could proceed: \n",
        "\n",
        "* Running the convolutional base over our dataset, recording its output to a Numpy array on disk, then using this data as input to a \n",
        "standalone densely-connected classifier similar to those you have seen in the first chapters of this book. This solution is very fast and \n",
        "cheap to run, because it only requires running the convolutional base once for every input image, and the convolutional base is by far the \n",
        "most expensive part of the pipeline. However, for the exact same reason, this technique would not allow us to leverage data augmentation at \n",
        "all.\n",
        "* Extending the model we have (`conv_base`) by adding `Dense` layers on top, and running the whole thing end-to-end on the input data. This \n",
        "allows us to use data augmentation, because every input image is going through the convolutional base every time it is seen by the model. \n",
        "However, for this same reason, this technique is far more expensive than the first one.\n",
        "\n",
        "We will cover both techniques. Let's walk through the code required to set-up the first one: recording the output of `conv_base` on our \n",
        "data and using these outputs as inputs to a new model.\n",
        "\n",
        "We will start by simply running instances of the previously-introduced `ImageDataGenerator` to extract images as Numpy arrays as well as \n",
        "their labels. We will extract features from these images simply by calling the `predict` method of the `conv_base` model."
      ]
    },
    {
      "metadata": {
        "id": "3G4XVKcY0UUp",
        "colab_type": "code",
        "outputId": "8effce68-8add-4bb1-a8eb-21b1d86a5871",
        "colab": {
          "base_uri": "https://localhost:8080/",
          "height": 68
        }
      },
      "cell_type": "code",
      "source": [
        "import os\n",
        "import numpy as np\n",
        "from keras.preprocessing.image import ImageDataGenerator\n",
        "\n",
        "base_dir = '/content/gdrive/My Drive/datasets/cats_and_dogs/cats_and_dogs_small'\n",
        "\n",
        "train_dir = os.path.join(base_dir, 'train')\n",
        "validation_dir = os.path.join(base_dir, 'validation')\n",
        "test_dir = os.path.join(base_dir, 'test')\n",
        "\n",
        "datagen = ImageDataGenerator(rescale=1./255)\n",
        "batch_size = 20\n",
        "\n",
        "def extract_features(directory, sample_count):\n",
        "    features = np.zeros(shape=(sample_count, 4, 4, 512))\n",
        "    labels = np.zeros(shape=(sample_count))\n",
        "    generator = datagen.flow_from_directory(\n",
        "        directory,\n",
        "        target_size=(150, 150),\n",
        "        batch_size=batch_size,\n",
        "        class_mode='binary')\n",
        "    i = 0\n",
        "    for inputs_batch, labels_batch in generator:\n",
        "        features_batch = conv_base.predict(inputs_batch)\n",
        "        features[i * batch_size : (i + 1) * batch_size] = features_batch\n",
        "        labels[i * batch_size : (i + 1) * batch_size] = labels_batch\n",
        "        i += 1\n",
        "        if i * batch_size >= sample_count:\n",
        "            # Note that since generators yield data indefinitely in a loop,\n",
        "            # we must `break` after every image has been seen once.\n",
        "            break\n",
        "    return features, labels\n",
        "\n",
        "train_features, train_labels = extract_features(train_dir, 2000)\n",
        "validation_features, validation_labels = extract_features(validation_dir, 1000)\n",
        "test_features, test_labels = extract_features(test_dir, 1000)"
      ],
      "execution_count": 0,
      "outputs": [
        {
          "output_type": "stream",
          "text": [
            "Found 2000 images belonging to 2 classes.\n",
            "Found 1000 images belonging to 2 classes.\n",
            "Found 1000 images belonging to 2 classes.\n"
          ],
          "name": "stdout"
        }
      ]
    },
    {
      "metadata": {
        "id": "JlmHMcD40UVG",
        "colab_type": "text"
      },
      "cell_type": "markdown",
      "source": [
        "The extracted features are currently of shape `(samples, 4, 4, 512)`. We will feed them to a densely-connected classifier, so first we must \n",
        "flatten them to `(samples, 8192)`:"
      ]
    },
    {
      "metadata": {
        "id": "E86DI04d0UVJ",
        "colab_type": "code",
        "colab": {}
      },
      "cell_type": "code",
      "source": [
        "train_features = np.reshape(train_features, (2000, 4 * 4 * 512))\n",
        "validation_features = np.reshape(validation_features, (1000, 4 * 4 * 512))\n",
        "test_features = np.reshape(test_features, (1000, 4 * 4 * 512))"
      ],
      "execution_count": 0,
      "outputs": []
    },
    {
      "metadata": {
        "id": "xfOSAIwV0UVS",
        "colab_type": "text"
      },
      "cell_type": "markdown",
      "source": [
        "At this point, we can define our densely-connected classifier (note the use of dropout for regularization), and train it on the data and \n",
        "labels that we just recorded:"
      ]
    },
    {
      "metadata": {
        "id": "mJr9_zd80UVU",
        "colab_type": "code",
        "outputId": "94608dad-08c8-478a-95d9-1aaf3de59e84",
        "colab": {
          "base_uri": "https://localhost:8080/",
          "height": 1176
        }
      },
      "cell_type": "code",
      "source": [
        "from keras import models\n",
        "from keras import layers\n",
        "from keras import optimizers\n",
        "\n",
        "model = models.Sequential()\n",
        "model.add(layers.Dense(256, activation='relu', input_dim=4 * 4 * 512))\n",
        "model.add(layers.Dropout(0.5))\n",
        "model.add(layers.Dense(1, activation='sigmoid'))\n",
        "\n",
        "model.compile(optimizer=optimizers.RMSprop(lr=2e-5),\n",
        "              loss='binary_crossentropy',\n",
        "              metrics=['acc'])\n",
        "\n",
        "history = model.fit(train_features, train_labels,\n",
        "                    epochs=30,\n",
        "                    batch_size=20,\n",
        "                    validation_data=(validation_features, validation_labels))"
      ],
      "execution_count": 0,
      "outputs": [
        {
          "output_type": "stream",
          "text": [
            "WARNING:tensorflow:From /usr/local/lib/python3.6/dist-packages/keras/backend/tensorflow_backend.py:3445: calling dropout (from tensorflow.python.ops.nn_ops) with keep_prob is deprecated and will be removed in a future version.\n",
            "Instructions for updating:\n",
            "Please use `rate` instead of `keep_prob`. Rate should be set to `rate = 1 - keep_prob`.\n",
            "WARNING:tensorflow:From /usr/local/lib/python3.6/dist-packages/tensorflow/python/ops/math_ops.py:3066: to_int32 (from tensorflow.python.ops.math_ops) is deprecated and will be removed in a future version.\n",
            "Instructions for updating:\n",
            "Use tf.cast instead.\n",
            "Train on 2000 samples, validate on 1000 samples\n",
            "Epoch 1/30\n",
            "2000/2000 [==============================] - 2s 908us/step - loss: 0.6130 - acc: 0.6750 - val_loss: 0.4434 - val_acc: 0.8200\n",
            "Epoch 2/30\n",
            "2000/2000 [==============================] - 1s 396us/step - loss: 0.4316 - acc: 0.8110 - val_loss: 0.3659 - val_acc: 0.8490\n",
            "Epoch 3/30\n",
            "2000/2000 [==============================] - 1s 403us/step - loss: 0.3623 - acc: 0.8410 - val_loss: 0.3363 - val_acc: 0.8530\n",
            "Epoch 4/30\n",
            "2000/2000 [==============================] - 1s 450us/step - loss: 0.3186 - acc: 0.8650 - val_loss: 0.2977 - val_acc: 0.8910\n",
            "Epoch 5/30\n",
            "2000/2000 [==============================] - 1s 454us/step - loss: 0.2863 - acc: 0.8930 - val_loss: 0.2834 - val_acc: 0.8950\n",
            "Epoch 6/30\n",
            "2000/2000 [==============================] - 1s 452us/step - loss: 0.2588 - acc: 0.8965 - val_loss: 0.2781 - val_acc: 0.8820\n",
            "Epoch 7/30\n",
            "2000/2000 [==============================] - 1s 455us/step - loss: 0.2432 - acc: 0.9090 - val_loss: 0.2622 - val_acc: 0.9000\n",
            "Epoch 8/30\n",
            "2000/2000 [==============================] - 1s 447us/step - loss: 0.2254 - acc: 0.9165 - val_loss: 0.2558 - val_acc: 0.9020\n",
            "Epoch 9/30\n",
            "2000/2000 [==============================] - 1s 450us/step - loss: 0.2246 - acc: 0.9195 - val_loss: 0.2519 - val_acc: 0.9010\n",
            "Epoch 10/30\n",
            "2000/2000 [==============================] - 1s 452us/step - loss: 0.2065 - acc: 0.9220 - val_loss: 0.2501 - val_acc: 0.8930\n",
            "Epoch 11/30\n",
            "2000/2000 [==============================] - 1s 450us/step - loss: 0.2007 - acc: 0.9275 - val_loss: 0.2450 - val_acc: 0.9050\n",
            "Epoch 12/30\n",
            "2000/2000 [==============================] - 1s 450us/step - loss: 0.1885 - acc: 0.9295 - val_loss: 0.2456 - val_acc: 0.8990\n",
            "Epoch 13/30\n",
            "2000/2000 [==============================] - 1s 448us/step - loss: 0.1816 - acc: 0.9365 - val_loss: 0.2448 - val_acc: 0.9000\n",
            "Epoch 14/30\n",
            "2000/2000 [==============================] - 1s 453us/step - loss: 0.1730 - acc: 0.9310 - val_loss: 0.2391 - val_acc: 0.9000\n",
            "Epoch 15/30\n",
            "2000/2000 [==============================] - 1s 454us/step - loss: 0.1629 - acc: 0.9460 - val_loss: 0.2445 - val_acc: 0.8990\n",
            "Epoch 16/30\n",
            "2000/2000 [==============================] - 1s 448us/step - loss: 0.1558 - acc: 0.9440 - val_loss: 0.2366 - val_acc: 0.9050\n",
            "Epoch 17/30\n",
            "2000/2000 [==============================] - 1s 449us/step - loss: 0.1479 - acc: 0.9500 - val_loss: 0.2360 - val_acc: 0.9030\n",
            "Epoch 18/30\n",
            "2000/2000 [==============================] - 1s 448us/step - loss: 0.1445 - acc: 0.9530 - val_loss: 0.2366 - val_acc: 0.8990\n",
            "Epoch 19/30\n",
            "2000/2000 [==============================] - 1s 453us/step - loss: 0.1415 - acc: 0.9515 - val_loss: 0.2384 - val_acc: 0.8970\n",
            "Epoch 20/30\n",
            "2000/2000 [==============================] - 1s 458us/step - loss: 0.1338 - acc: 0.9525 - val_loss: 0.2377 - val_acc: 0.9000\n",
            "Epoch 21/30\n",
            "2000/2000 [==============================] - 1s 454us/step - loss: 0.1271 - acc: 0.9570 - val_loss: 0.2530 - val_acc: 0.8990\n",
            "Epoch 22/30\n",
            "2000/2000 [==============================] - 1s 457us/step - loss: 0.1227 - acc: 0.9590 - val_loss: 0.2337 - val_acc: 0.9040\n",
            "Epoch 23/30\n",
            "2000/2000 [==============================] - 1s 456us/step - loss: 0.1197 - acc: 0.9585 - val_loss: 0.2357 - val_acc: 0.9000\n",
            "Epoch 24/30\n",
            "2000/2000 [==============================] - 1s 448us/step - loss: 0.1138 - acc: 0.9655 - val_loss: 0.2417 - val_acc: 0.9030\n",
            "Epoch 25/30\n",
            "2000/2000 [==============================] - 1s 455us/step - loss: 0.1124 - acc: 0.9595 - val_loss: 0.2337 - val_acc: 0.9010\n",
            "Epoch 26/30\n",
            "2000/2000 [==============================] - 1s 478us/step - loss: 0.1060 - acc: 0.9650 - val_loss: 0.2384 - val_acc: 0.9020\n",
            "Epoch 27/30\n",
            "2000/2000 [==============================] - 1s 475us/step - loss: 0.1051 - acc: 0.9645 - val_loss: 0.2375 - val_acc: 0.9010\n",
            "Epoch 28/30\n",
            "2000/2000 [==============================] - 1s 469us/step - loss: 0.0995 - acc: 0.9680 - val_loss: 0.2380 - val_acc: 0.9010\n",
            "Epoch 29/30\n",
            "2000/2000 [==============================] - 1s 477us/step - loss: 0.0925 - acc: 0.9715 - val_loss: 0.2384 - val_acc: 0.8990\n",
            "Epoch 30/30\n",
            "2000/2000 [==============================] - 1s 470us/step - loss: 0.0889 - acc: 0.9695 - val_loss: 0.2434 - val_acc: 0.9000\n"
          ],
          "name": "stdout"
        }
      ]
    },
    {
      "metadata": {
        "id": "qpo_KSH20UVs",
        "colab_type": "text"
      },
      "cell_type": "markdown",
      "source": [
        "Training is very fast, since we only have to deal with two `Dense` layers -- an epoch takes less than one second even on CPU.\n",
        "\n",
        "Let's take a look at the loss and accuracy curves during training:"
      ]
    },
    {
      "metadata": {
        "id": "6xpZal5a0UVt",
        "colab_type": "code",
        "outputId": "abfa6114-21cb-4830-f52e-70bd376a9313",
        "colab": {
          "base_uri": "https://localhost:8080/",
          "height": 707
        }
      },
      "cell_type": "code",
      "source": [
        "import matplotlib.pyplot as plt\n",
        "\n",
        "acc = history.history['acc']\n",
        "val_acc = history.history['val_acc']\n",
        "loss = history.history['loss']\n",
        "val_loss = history.history['val_loss']\n",
        "\n",
        "epochs = range(len(acc))\n",
        "\n",
        "plt.plot(epochs, acc, 'bo', label='Training acc')\n",
        "plt.plot(epochs, val_acc, 'b', label='Validation acc')\n",
        "plt.title('Training and validation accuracy')\n",
        "plt.legend()\n",
        "\n",
        "plt.figure()\n",
        "\n",
        "plt.plot(epochs, loss, 'bo', label='Training loss')\n",
        "plt.plot(epochs, val_loss, 'b', label='Validation loss')\n",
        "plt.title('Training and validation loss')\n",
        "plt.legend()\n",
        "\n",
        "plt.show()"
      ],
      "execution_count": 0,
      "outputs": [
        {
          "output_type": "display_data",
          "data": {
            "image/png": "[encoded data removed]",
            "text/plain": [
              "<Figure size 576x396 with 1 Axes>"
            ]
          },
          "metadata": {
            "tags": []
          }
        },
        {
          "output_type": "display_data",
          "data": {
            "image/png": "[encoded data removed]",
            "text/plain": [
              "<Figure size 576x396 with 1 Axes>"
            ]
          },
          "metadata": {
            "tags": []
          }
        }
      ]
    },
    {
      "metadata": {
        "id": "i4J99l9Y0UVy",
        "colab_type": "text"
      },
      "cell_type": "markdown",
      "source": [
        "\n",
        "We reach a validation accuracy of about 90%, much better than what we could achieve in the previous section with our small model trained from \n",
        "scratch. However, our plots also indicate that we are overfitting almost from the start -- despite using dropout with a fairly large rate. \n",
        "This is because this technique does not leverage data augmentation, which is essential to preventing overfitting with small image datasets.\n",
        "\n",
        "Now, let's review the second technique we mentioned for doing feature extraction, which is much slower and more expensive, but which allows \n",
        "us to leverage data augmentation during training: extending the `conv_base` model and running it end-to-end on the inputs. Note that this \n",
        "technique is in fact so expensive that you should only attempt it if you have access to a GPU: it is absolutely intractable on CPU. If you \n",
        "cannot run your code on GPU, then the previous technique is the way to go.\n",
        "\n",
        "Because models behave just like layers, you can add a model (like our `conv_base`) to a `Sequential` model just like you would add a layer. \n",
        "So you can do the following:"
      ]
    },
    {
      "metadata": {
        "id": "gEbzTi-G0UVz",
        "colab_type": "code",
        "colab": {}
      },
      "cell_type": "code",
      "source": [
        "from keras import models\n",
        "from keras import layers\n",
        "\n",
        "model = models.Sequential()\n",
        "model.add(conv_base)\n",
        "model.add(layers.Flatten())\n",
        "model.add(layers.Dense(256, activation='relu'))\n",
        "model.add(layers.Dense(1, activation='sigmoid'))"
      ],
      "execution_count": 0,
      "outputs": []
    },
    {
      "metadata": {
        "id": "bewS6IF-0UV2",
        "colab_type": "text"
      },
      "cell_type": "markdown",
      "source": [
        "This is what our model looks like now:"
      ]
    },
    {
      "metadata": {
        "id": "TyhFDJt80UV3",
        "colab_type": "code",
        "outputId": "04822029-039e-4fa6-ee94-f852edcf2022",
        "colab": {
          "base_uri": "https://localhost:8080/",
          "height": 272
        }
      },
      "cell_type": "code",
      "source": [
        "model.summary()"
      ],
      "execution_count": 0,
      "outputs": [
        {
          "output_type": "stream",
          "text": [
            "_________________________________________________________________\n",
            "Layer (type)                 Output Shape              Param #   \n",
            "=================================================================\n",
            "vgg16 (Model)                (None, 4, 4, 512)         14714688  \n",
            "_________________________________________________________________\n",
            "flatten_1 (Flatten)          (None, 8192)              0         \n",
            "_________________________________________________________________\n",
            "dense_3 (Dense)              (None, 256)               2097408   \n",
            "_________________________________________________________________\n",
            "dense_4 (Dense)              (None, 1)                 257       \n",
            "=================================================================\n",
            "Total params: 16,812,353\n",
            "Trainable params: 16,812,353\n",
            "Non-trainable params: 0\n",
            "_________________________________________________________________\n"
          ],
          "name": "stdout"
        }
      ]
    },
    {
      "metadata": {
        "id": "QI6-IPwd0UWG",
        "colab_type": "text"
      },
      "cell_type": "markdown",
      "source": [
        "As you can see, the convolutional base of VGG16 has 14,714,688 parameters, which is very large. The classifier we are adding on top has 2 \n",
        "million parameters.\n",
        "\n",
        "Before we compile and train our model, a very important thing to do is to freeze the convolutional base. \"Freezing\" a layer or set of \n",
        "layers means preventing their weights from getting updated during training. If we don't do this, then the representations that were \n",
        "previously learned by the convolutional base would get modified during training. Since the `Dense` layers on top are randomly initialized, \n",
        "very large weight updates would be propagated through the network, effectively destroying the representations previously learned.\n",
        "\n",
        "In Keras, freezing a network is done by setting its `trainable` attribute to `False`:"
      ]
    },
    {
      "metadata": {
        "id": "tHUvNUNn0UWH",
        "colab_type": "code",
        "outputId": "9794c238-22da-401f-aa79-9dc056542079",
        "colab": {
          "base_uri": "https://localhost:8080/",
          "height": 34
        }
      },
      "cell_type": "code",
      "source": [
        "print('This is the number of trainable weights '\n",
        "      'before freezing the conv base:', len(model.trainable_weights))"
      ],
      "execution_count": 0,
      "outputs": [
        {
          "output_type": "stream",
          "text": [
            "This is the number of trainable weights before freezing the conv base: 30\n"
          ],
          "name": "stdout"
        }
      ]
    },
    {
      "metadata": {
        "id": "rQkFjomb0UWP",
        "colab_type": "code",
        "colab": {}
      },
      "cell_type": "code",
      "source": [
        "conv_base.trainable = False"
      ],
      "execution_count": 0,
      "outputs": []
    },
    {
      "metadata": {
        "id": "3R0ZHjs20UXw",
        "colab_type": "code",
        "outputId": "94076d29-f3fc-4bfb-929f-4f7773e8252f",
        "colab": {
          "base_uri": "https://localhost:8080/",
          "height": 34
        }
      },
      "cell_type": "code",
      "source": [
        "print('This is the number of trainable weights '\n",
        "      'after freezing the conv base:', len(model.trainable_weights))"
      ],
      "execution_count": 0,
      "outputs": [
        {
          "output_type": "stream",
          "text": [
            "This is the number of trainable weights after freezing the conv base: 4\n"
          ],
          "name": "stdout"
        }
      ]
    },
    {
      "metadata": {
        "id": "BQge5_kl0UX0",
        "colab_type": "text"
      },
      "cell_type": "markdown",
      "source": [
        "With this setup, only the weights from the two `Dense` layers that we added will be trained. That's a total of four weight tensors: two per \n",
        "layer (the main weight matrix and the bias vector). Note that in order for these changes to take effect, we must first compile the model. \n",
        "If you ever modify weight trainability after compilation, you should then re-compile the model, or these changes would be ignored.\n",
        "\n",
        "Now we can start training our model, with the same data augmentation configuration that we used in our previous example:"
      ]
    },
    {
      "metadata": {
        "id": "y-pG_sad0UX1",
        "colab_type": "code",
        "outputId": "d85397e8-6cb4-4e54-8cf8-191c5096c987",
        "colab": {
          "base_uri": "https://localhost:8080/",
          "height": 1071
        }
      },
      "cell_type": "code",
      "source": [
        "from keras.preprocessing.image import ImageDataGenerator\n",
        "\n",
        "train_datagen = ImageDataGenerator(\n",
        "      rescale=1./255,\n",
        "      rotation_range=40,\n",
        "      width_shift_range=0.2,\n",
        "      height_shift_range=0.2,\n",
        "      shear_range=0.2,\n",
        "      zoom_range=0.2,\n",
        "      horizontal_flip=True,\n",
        "      fill_mode='nearest')\n",
        "\n",
        "# Note that the validation data should not be augmented!\n",
        "test_datagen = ImageDataGenerator(rescale=1./255)\n",
        "\n",
        "train_generator = train_datagen.flow_from_directory(\n",
        "        # This is the target directory\n",
        "        train_dir,\n",
        "        # All images will be resized to 150x150\n",
        "        target_size=(150, 150),\n",
        "        batch_size=20,\n",
        "        # Since we use binary_crossentropy loss, we need binary labels\n",
        "        class_mode='binary')\n",
        "\n",
        "validation_generator = test_datagen.flow_from_directory(\n",
        "        validation_dir,\n",
        "        target_size=(150, 150),\n",
        "        batch_size=20,\n",
        "        class_mode='binary')\n",
        "\n",
        "model.compile(loss='binary_crossentropy',\n",
        "              optimizer=optimizers.RMSprop(lr=2e-5),\n",
        "              metrics=['acc'])\n",
        "with tf.device('/gpu:0'):\n",
        "  history = model.fit_generator(\n",
        "      train_generator,\n",
        "      steps_per_epoch=100,\n",
        "      epochs=30,\n",
        "      validation_data=validation_generator,\n",
        "      validation_steps=50,\n",
        "      verbose=2)"
      ],
      "execution_count": 0,
      "outputs": [
        {
          "output_type": "stream",
          "text": [
            "Found 2000 images belonging to 2 classes.\n",
            "Found 1000 images belonging to 2 classes.\n",
            "Epoch 1/30\n",
            " - 34s - loss: 0.5956 - acc: 0.6930 - val_loss: 0.4487 - val_acc: 0.8190\n",
            "Epoch 2/30\n",
            " - 31s - loss: 0.4824 - acc: 0.7850 - val_loss: 0.3693 - val_acc: 0.8540\n",
            "Epoch 3/30\n",
            " - 31s - loss: 0.4334 - acc: 0.8120 - val_loss: 0.3396 - val_acc: 0.8530\n",
            "Epoch 4/30\n",
            " - 31s - loss: 0.4074 - acc: 0.8240 - val_loss: 0.3062 - val_acc: 0.8800\n",
            "Epoch 5/30\n",
            " - 31s - loss: 0.3775 - acc: 0.8300 - val_loss: 0.2966 - val_acc: 0.8820\n",
            "Epoch 6/30\n",
            " - 31s - loss: 0.3671 - acc: 0.8475 - val_loss: 0.2803 - val_acc: 0.8880\n",
            "Epoch 7/30\n",
            " - 31s - loss: 0.3591 - acc: 0.8330 - val_loss: 0.2785 - val_acc: 0.8890\n",
            "Epoch 8/30\n",
            " - 30s - loss: 0.3560 - acc: 0.8375 - val_loss: 0.2717 - val_acc: 0.8880\n",
            "Epoch 9/30\n",
            " - 30s - loss: 0.3356 - acc: 0.8565 - val_loss: 0.2723 - val_acc: 0.8900\n",
            "Epoch 10/30\n",
            " - 30s - loss: 0.3311 - acc: 0.8595 - val_loss: 0.2610 - val_acc: 0.8970\n",
            "Epoch 11/30\n",
            " - 30s - loss: 0.3326 - acc: 0.8545 - val_loss: 0.2621 - val_acc: 0.8990\n",
            "Epoch 12/30\n",
            " - 31s - loss: 0.3331 - acc: 0.8590 - val_loss: 0.2620 - val_acc: 0.8980\n",
            "Epoch 13/30\n",
            " - 30s - loss: 0.3315 - acc: 0.8530 - val_loss: 0.2631 - val_acc: 0.8850\n",
            "Epoch 14/30\n",
            " - 31s - loss: 0.3219 - acc: 0.8635 - val_loss: 0.2519 - val_acc: 0.9070\n",
            "Epoch 15/30\n",
            " - 30s - loss: 0.3295 - acc: 0.8520 - val_loss: 0.2507 - val_acc: 0.9010\n",
            "Epoch 16/30\n",
            " - 30s - loss: 0.2989 - acc: 0.8720 - val_loss: 0.2495 - val_acc: 0.8980\n",
            "Epoch 17/30\n",
            " - 31s - loss: 0.2994 - acc: 0.8710 - val_loss: 0.2529 - val_acc: 0.8910\n",
            "Epoch 18/30\n",
            " - 31s - loss: 0.3076 - acc: 0.8675 - val_loss: 0.2551 - val_acc: 0.8920\n",
            "Epoch 19/30\n",
            " - 31s - loss: 0.3080 - acc: 0.8675 - val_loss: 0.2426 - val_acc: 0.9020\n",
            "Epoch 20/30\n",
            " - 30s - loss: 0.2991 - acc: 0.8735 - val_loss: 0.2450 - val_acc: 0.9030\n",
            "Epoch 21/30\n",
            " - 30s - loss: 0.3131 - acc: 0.8615 - val_loss: 0.2435 - val_acc: 0.9020\n",
            "Epoch 22/30\n",
            " - 30s - loss: 0.2921 - acc: 0.8775 - val_loss: 0.2482 - val_acc: 0.8960\n",
            "Epoch 23/30\n",
            " - 30s - loss: 0.2876 - acc: 0.8745 - val_loss: 0.2433 - val_acc: 0.8930\n",
            "Epoch 24/30\n",
            " - 30s - loss: 0.2805 - acc: 0.8835 - val_loss: 0.2437 - val_acc: 0.8940\n",
            "Epoch 25/30\n",
            " - 31s - loss: 0.2907 - acc: 0.8710 - val_loss: 0.2405 - val_acc: 0.8980\n",
            "Epoch 26/30\n",
            " - 31s - loss: 0.2834 - acc: 0.8750 - val_loss: 0.2399 - val_acc: 0.9030\n",
            "Epoch 27/30\n",
            " - 31s - loss: 0.2871 - acc: 0.8790 - val_loss: 0.2387 - val_acc: 0.9010\n",
            "Epoch 28/30\n",
            " - 31s - loss: 0.2827 - acc: 0.8845 - val_loss: 0.2405 - val_acc: 0.9010\n",
            "Epoch 29/30\n",
            " - 31s - loss: 0.2883 - acc: 0.8775 - val_loss: 0.2380 - val_acc: 0.9040\n",
            "Epoch 30/30\n",
            " - 31s - loss: 0.2702 - acc: 0.8895 - val_loss: 0.2574 - val_acc: 0.8900\n"
          ],
          "name": "stdout"
        }
      ]
    },
    {
      "metadata": {
        "id": "HR1NQqzK0VHP",
        "colab_type": "code",
        "colab": {}
      },
      "cell_type": "code",
      "source": [
        "model.save('cats_and_dogs_small_3.h5')"
      ],
      "execution_count": 0,
      "outputs": []
    },
    {
      "metadata": {
        "id": "w3vUWhgf0VHe",
        "colab_type": "text"
      },
      "cell_type": "markdown",
      "source": [
        "Let's plot our results again:"
      ]
    },
    {
      "metadata": {
        "id": "2c4wF6ti0VHn",
        "colab_type": "code",
        "outputId": "9d212a85-d684-483b-b0bb-48c798e40c70",
        "colab": {
          "base_uri": "https://localhost:8080/",
          "height": 707
        }
      },
      "cell_type": "code",
      "source": [
        "acc = history.history['acc']\n",
        "val_acc = history.history['val_acc']\n",
        "loss = history.history['loss']\n",
        "val_loss = history.history['val_loss']\n",
        "\n",
        "epochs = range(len(acc))\n",
        "\n",
        "plt.plot(epochs, acc, 'bo', label='Training acc')\n",
        "plt.plot(epochs, val_acc, 'b', label='Validation acc')\n",
        "plt.title('Training and validation accuracy')\n",
        "plt.legend()\n",
        "\n",
        "plt.figure()\n",
        "\n",
        "plt.plot(epochs, loss, 'bo', label='Training loss')\n",
        "plt.plot(epochs, val_loss, 'b', label='Validation loss')\n",
        "plt.title('Training and validation loss')\n",
        "plt.legend()\n",
        "\n",
        "plt.show()"
      ],
      "execution_count": 0,
      "outputs": [
        {
          "output_type": "display_data",
          "data": {
            "image/png": "[encoded data removed]",
            "text/plain": [
              "<Figure size 576x396 with 1 Axes>"
            ]
          },
          "metadata": {
            "tags": []
          }
        },
        {
          "output_type": "display_data",
          "data": {
            "image/png": "[encoded data removed]",
            "text/plain": [
              "<Figure size 576x396 with 1 Axes>"
            ]
          },
          "metadata": {
            "tags": []
          }
        }
      ]
    },
    {
      "metadata": {
        "id": "8v6hZX6a0VIK",
        "colab_type": "text"
      },
      "cell_type": "markdown",
      "source": [
        "As you can see, we reach a validation accuracy of about 96%. This is much better than our small convnet trained from scratch."
      ]
    },
    {
      "metadata": {
        "id": "jpenKIVi0VIV",
        "colab_type": "text"
      },
      "cell_type": "markdown",
      "source": [
        "## Fine-tuning\n",
        "\n",
        "Another widely used technique for model reuse, complementary to feature extraction, is _fine-tuning_. \n",
        "Fine-tuning consists in unfreezing a few of the top layers \n",
        "of a frozen model base used for feature extraction, and jointly training both the newly added part of the model (in our case, the \n",
        "fully-connected classifier) and these top layers. This is called \"fine-tuning\" because it slightly adjusts the more abstract \n",
        "representations of the model being reused, in order to make them more relevant for the problem at hand.\n",
        "\n",
        "![fine-tuning VGG16](https://s3.amazonaws.com/book.keras.io/img/ch5/vgg16_fine_tuning.png)"
      ]
    },
    {
      "metadata": {
        "id": "cksqwvnb0VIb",
        "colab_type": "text"
      },
      "cell_type": "markdown",
      "source": [
        "We have stated before that it was necessary to freeze the convolution base of VGG16 in order to be able to train a randomly initialized \n",
        "classifier on top. For the same reason, it is only possible to fine-tune the top layers of the convolutional base once the classifier on \n",
        "top has already been trained. If the classified wasn't already trained, then the error signal propagating through the network during \n",
        "training would be too large, and the representations previously learned by the layers being fine-tuned would be destroyed. Thus the steps \n",
        "for fine-tuning a network are as follow:\n",
        "\n",
        "* 1) Add your custom network on top of an already trained base network.\n",
        "* 2) Freeze the base network.\n",
        "* 3) Train the part you added.\n",
        "* 4) Unfreeze some layers in the base network.\n",
        "* 5) Jointly train both these layers and the part you added.\n",
        "\n",
        "We have already completed the first 3 steps when doing feature extraction. Let's proceed with the 4th step: we will unfreeze our `conv_base`, \n",
        "and then freeze individual layers inside of it.\n",
        "\n",
        "As a reminder, this is what our convolutional base looks like:"
      ]
    },
    {
      "metadata": {
        "id": "Dt2AGDjX0VId",
        "colab_type": "code",
        "outputId": "01aba2cb-9582-4add-a831-d3d9f8e06dd4",
        "colab": {
          "base_uri": "https://localhost:8080/",
          "height": 782
        }
      },
      "cell_type": "code",
      "source": [
        "conv_base.summary()"
      ],
      "execution_count": 0,
      "outputs": [
        {
          "output_type": "stream",
          "text": [
            "_________________________________________________________________\n",
            "Layer (type)                 Output Shape              Param #   \n",
            "=================================================================\n",
            "input_1 (InputLayer)         (None, 150, 150, 3)       0         \n",
            "_________________________________________________________________\n",
            "block1_conv1 (Conv2D)        (None, 150, 150, 64)      1792      \n",
            "_________________________________________________________________\n",
            "block1_conv2 (Conv2D)        (None, 150, 150, 64)      36928     \n",
            "_________________________________________________________________\n",
            "block1_pool (MaxPooling2D)   (None, 75, 75, 64)        0         \n",
            "_________________________________________________________________\n",
            "block2_conv1 (Conv2D)        (None, 75, 75, 128)       73856     \n",
            "_________________________________________________________________\n",
            "block2_conv2 (Conv2D)        (None, 75, 75, 128)       147584    \n",
            "_________________________________________________________________\n",
            "block2_pool (MaxPooling2D)   (None, 37, 37, 128)       0         \n",
            "_________________________________________________________________\n",
            "block3_conv1 (Conv2D)        (None, 37, 37, 256)       295168    \n",
            "_________________________________________________________________\n",
            "block3_conv2 (Conv2D)        (None, 37, 37, 256)       590080    \n",
            "_________________________________________________________________\n",
            "block3_conv3 (Conv2D)        (None, 37, 37, 256)       590080    \n",
            "_________________________________________________________________\n",
            "block3_pool (MaxPooling2D)   (None, 18, 18, 256)       0         \n",
            "_________________________________________________________________\n",
            "block4_conv1 (Conv2D)        (None, 18, 18, 512)       1180160   \n",
            "_________________________________________________________________\n",
            "block4_conv2 (Conv2D)        (None, 18, 18, 512)       2359808   \n",
            "_________________________________________________________________\n",
            "block4_conv3 (Conv2D)        (None, 18, 18, 512)       2359808   \n",
            "_________________________________________________________________\n",
            "block4_pool (MaxPooling2D)   (None, 9, 9, 512)         0         \n",
            "_________________________________________________________________\n",
            "block5_conv1 (Conv2D)        (None, 9, 9, 512)         2359808   \n",
            "_________________________________________________________________\n",
            "block5_conv2 (Conv2D)        (None, 9, 9, 512)         2359808   \n",
            "_________________________________________________________________\n",
            "block5_conv3 (Conv2D)        (None, 9, 9, 512)         2359808   \n",
            "_________________________________________________________________\n",
            "block5_pool (MaxPooling2D)   (None, 4, 4, 512)         0         \n",
            "=================================================================\n",
            "Total params: 14,714,688\n",
            "Trainable params: 0\n",
            "Non-trainable params: 14,714,688\n",
            "_________________________________________________________________\n"
          ],
          "name": "stdout"
        }
      ]
    },
    {
      "metadata": {
        "id": "uoQF79YL0VIr",
        "colab_type": "text"
      },
      "cell_type": "markdown",
      "source": [
        "\n",
        "We will fine-tune the last 3 convolutional layers, which means that all layers up until `block4_pool` should be frozen, and the layers \n",
        "`block5_conv1`, `block5_conv2` and `block5_conv3` should be trainable.\n",
        "\n",
        "Why not fine-tune more layers? Why not fine-tune the entire convolutional base? We could. However, we need to consider that:\n",
        "\n",
        "* Earlier layers in the convolutional base encode more generic, reusable features, while layers higher up encode more specialized features. It is \n",
        "more useful to fine-tune the more specialized features, as these are the ones that need to be repurposed on our new problem. There would \n",
        "be fast-decreasing returns in fine-tuning lower layers.\n",
        "* The more parameters we are training, the more we are at risk of overfitting. The convolutional base has 15M parameters, so it would be \n",
        "risky to attempt to train it on our small dataset.\n",
        "\n",
        "Thus, in our situation, it is a good strategy to only fine-tune the top 2 to 3 layers in the convolutional base.\n",
        "\n",
        "Let's set this up, starting from where we left off in the previous example:"
      ]
    },
    {
      "metadata": {
        "id": "Stn_gSf-0VI0",
        "colab_type": "code",
        "colab": {}
      },
      "cell_type": "code",
      "source": [
        "conv_base.trainable = True\n",
        "\n",
        "set_trainable = False\n",
        "for layer in conv_base.layers:\n",
        "    if layer.name == 'block5_conv1':\n",
        "        set_trainable = True\n",
        "    if set_trainable:\n",
        "        layer.trainable = True\n",
        "    else:\n",
        "        layer.trainable = False"
      ],
      "execution_count": 0,
      "outputs": []
    },
    {
      "metadata": {
        "id": "HkjOpwrK0VJR",
        "colab_type": "text"
      },
      "cell_type": "markdown",
      "source": [
        "Now we can start fine-tuning our network. We will do this with the RMSprop optimizer, using a very low learning rate. The reason for using \n",
        "a low learning rate is that we want to limit the magnitude of the modifications we make to the representations of the 3 layers that we are \n",
        "fine-tuning. Updates that are too large may harm these representations.\n",
        "\n",
        "Now let's proceed with fine-tuning:"
      ]
    },
    {
      "metadata": {
        "id": "FnNdfZOn0VJV",
        "colab_type": "code",
        "outputId": "d5f4f572-8bec-4a98-b00c-2538a655b82e",
        "colab": {
          "base_uri": "https://localhost:8080/",
          "height": 3417
        }
      },
      "cell_type": "code",
      "source": [
        "model.compile(loss='binary_crossentropy',\n",
        "              optimizer=optimizers.RMSprop(lr=1e-4),\n",
        "              metrics=['acc'])\n",
        "\n",
        "with tf.device('/gpu:0'):\n",
        "  history = model.fit_generator(\n",
        "      train_generator,\n",
        "      steps_per_epoch=100,\n",
        "      epochs=100,\n",
        "      validation_data=validation_generator,\n",
        "      validation_steps=50)"
      ],
      "execution_count": 27,
      "outputs": [
        {
          "output_type": "stream",
          "text": [
            "Epoch 1/100\n",
            "100/100 [==============================] - 36s 359ms/step - loss: 0.6047 - acc: 0.7470 - val_loss: 0.5033 - val_acc: 0.8080\n",
            "Epoch 2/100\n",
            "100/100 [==============================] - 33s 327ms/step - loss: 0.3458 - acc: 0.8460 - val_loss: 0.1851 - val_acc: 0.9210\n",
            "Epoch 3/100\n",
            "100/100 [==============================] - 32s 325ms/step - loss: 0.2941 - acc: 0.8740 - val_loss: 0.3135 - val_acc: 0.9030\n",
            "Epoch 4/100\n",
            "100/100 [==============================] - 32s 320ms/step - loss: 0.2711 - acc: 0.8965 - val_loss: 0.1868 - val_acc: 0.9290\n",
            "Epoch 5/100\n",
            "100/100 [==============================] - 31s 314ms/step - loss: 0.2578 - acc: 0.8945 - val_loss: 0.2380 - val_acc: 0.9210\n",
            "Epoch 6/100\n",
            "100/100 [==============================] - 32s 321ms/step - loss: 0.2322 - acc: 0.9020 - val_loss: 0.2113 - val_acc: 0.9120\n",
            "Epoch 7/100\n",
            "100/100 [==============================] - 33s 326ms/step - loss: 0.2427 - acc: 0.9060 - val_loss: 0.1718 - val_acc: 0.9420\n",
            "Epoch 8/100\n",
            "100/100 [==============================] - 32s 317ms/step - loss: 0.1974 - acc: 0.9280 - val_loss: 0.4246 - val_acc: 0.8910\n",
            "Epoch 9/100\n",
            "100/100 [==============================] - 33s 326ms/step - loss: 0.2348 - acc: 0.9185 - val_loss: 0.2313 - val_acc: 0.9410\n",
            "Epoch 10/100\n",
            "100/100 [==============================] - 32s 323ms/step - loss: 0.2143 - acc: 0.9255 - val_loss: 0.1636 - val_acc: 0.9410\n",
            "Epoch 11/100\n",
            "100/100 [==============================] - 32s 318ms/step - loss: 0.2253 - acc: 0.9265 - val_loss: 0.2316 - val_acc: 0.9210\n",
            "Epoch 12/100\n",
            "100/100 [==============================] - 32s 322ms/step - loss: 0.1948 - acc: 0.9240 - val_loss: 0.2089 - val_acc: 0.9290\n",
            "Epoch 13/100\n",
            "100/100 [==============================] - 32s 319ms/step - loss: 0.1891 - acc: 0.9330 - val_loss: 0.2196 - val_acc: 0.9360\n",
            "Epoch 14/100\n",
            "100/100 [==============================] - 32s 323ms/step - loss: 0.1993 - acc: 0.9310 - val_loss: 0.2194 - val_acc: 0.9390\n",
            "Epoch 15/100\n",
            "100/100 [==============================] - 32s 315ms/step - loss: 0.2204 - acc: 0.9345 - val_loss: 0.2473 - val_acc: 0.9260\n",
            "Epoch 16/100\n",
            "100/100 [==============================] - 32s 322ms/step - loss: 0.1874 - acc: 0.9300 - val_loss: 0.2373 - val_acc: 0.9330\n",
            "Epoch 17/100\n",
            "100/100 [==============================] - 33s 327ms/step - loss: 0.1525 - acc: 0.9410 - val_loss: 0.1848 - val_acc: 0.9440\n",
            "Epoch 18/100\n",
            "100/100 [==============================] - 32s 322ms/step - loss: 0.1817 - acc: 0.9330 - val_loss: 0.4769 - val_acc: 0.9160\n",
            "Epoch 19/100\n",
            "100/100 [==============================] - 32s 322ms/step - loss: 0.1965 - acc: 0.9390 - val_loss: 0.1850 - val_acc: 0.9220\n",
            "Epoch 20/100\n",
            "100/100 [==============================] - 32s 322ms/step - loss: 0.1754 - acc: 0.9435 - val_loss: 0.2619 - val_acc: 0.9420\n",
            "Epoch 21/100\n",
            "100/100 [==============================] - 33s 326ms/step - loss: 0.1683 - acc: 0.9445 - val_loss: 0.2975 - val_acc: 0.9290\n",
            "Epoch 22/100\n",
            "100/100 [==============================] - 32s 324ms/step - loss: 0.1983 - acc: 0.9410 - val_loss: 0.3033 - val_acc: 0.9260\n",
            "Epoch 23/100\n",
            "100/100 [==============================] - 32s 316ms/step - loss: 0.1553 - acc: 0.9500 - val_loss: 0.5010 - val_acc: 0.9300\n",
            "Epoch 24/100\n",
            "100/100 [==============================] - 32s 317ms/step - loss: 0.1928 - acc: 0.9440 - val_loss: 0.2790 - val_acc: 0.9400\n",
            "Epoch 25/100\n",
            "100/100 [==============================] - 32s 322ms/step - loss: 0.1807 - acc: 0.9450 - val_loss: 0.2925 - val_acc: 0.9460\n",
            "Epoch 26/100\n",
            "100/100 [==============================] - 32s 321ms/step - loss: 0.1782 - acc: 0.9495 - val_loss: 0.3283 - val_acc: 0.9310\n",
            "Epoch 27/100\n",
            "100/100 [==============================] - 33s 331ms/step - loss: 0.1613 - acc: 0.9540 - val_loss: 0.2190 - val_acc: 0.9340\n",
            "Epoch 28/100\n",
            "100/100 [==============================] - 32s 323ms/step - loss: 0.1558 - acc: 0.9530 - val_loss: 0.2192 - val_acc: 0.9380\n",
            "Epoch 29/100\n",
            "100/100 [==============================] - 32s 323ms/step - loss: 0.1725 - acc: 0.9475 - val_loss: 0.3151 - val_acc: 0.9320\n",
            "Epoch 30/100\n",
            "100/100 [==============================] - 33s 326ms/step - loss: 0.1760 - acc: 0.9505 - val_loss: 0.2778 - val_acc: 0.9280\n",
            "Epoch 31/100\n",
            "100/100 [==============================] - 33s 326ms/step - loss: 0.1623 - acc: 0.9520 - val_loss: 0.4966 - val_acc: 0.8930\n",
            "Epoch 32/100\n",
            "100/100 [==============================] - 33s 326ms/step - loss: 0.1608 - acc: 0.9505 - val_loss: 0.2534 - val_acc: 0.9240\n",
            "Epoch 33/100\n",
            "100/100 [==============================] - 32s 325ms/step - loss: 0.1302 - acc: 0.9580 - val_loss: 0.5266 - val_acc: 0.9250\n",
            "Epoch 34/100\n",
            "100/100 [==============================] - 32s 325ms/step - loss: 0.1426 - acc: 0.9580 - val_loss: 0.1896 - val_acc: 0.9410\n",
            "Epoch 35/100\n",
            "100/100 [==============================] - 32s 323ms/step - loss: 0.1586 - acc: 0.9545 - val_loss: 0.4673 - val_acc: 0.9210\n",
            "Epoch 36/100\n",
            "100/100 [==============================] - 33s 329ms/step - loss: 0.1492 - acc: 0.9615 - val_loss: 0.2767 - val_acc: 0.9360\n",
            "Epoch 37/100\n",
            "100/100 [==============================] - 32s 324ms/step - loss: 0.1204 - acc: 0.9590 - val_loss: 0.3216 - val_acc: 0.9400\n",
            "Epoch 38/100\n",
            "100/100 [==============================] - 32s 324ms/step - loss: 0.1135 - acc: 0.9630 - val_loss: 0.3301 - val_acc: 0.9340\n",
            "Epoch 39/100\n",
            "100/100 [==============================] - 32s 324ms/step - loss: 0.1038 - acc: 0.9645 - val_loss: 0.5297 - val_acc: 0.9350\n",
            "Epoch 40/100\n",
            "100/100 [==============================] - 33s 329ms/step - loss: 0.1547 - acc: 0.9625 - val_loss: 0.3162 - val_acc: 0.9320\n",
            "Epoch 41/100\n",
            "100/100 [==============================] - 32s 324ms/step - loss: 0.2024 - acc: 0.9555 - val_loss: 0.2375 - val_acc: 0.9230\n",
            "Epoch 42/100\n",
            "100/100 [==============================] - 32s 324ms/step - loss: 0.1287 - acc: 0.9580 - val_loss: 0.3187 - val_acc: 0.9340\n",
            "Epoch 43/100\n",
            "100/100 [==============================] - 32s 323ms/step - loss: 0.1278 - acc: 0.9660 - val_loss: 0.2657 - val_acc: 0.9440\n",
            "Epoch 44/100\n",
            "100/100 [==============================] - 32s 323ms/step - loss: 0.1495 - acc: 0.9575 - val_loss: 0.3645 - val_acc: 0.9350\n",
            "Epoch 45/100\n",
            "100/100 [==============================] - 33s 326ms/step - loss: 0.1116 - acc: 0.9630 - val_loss: 0.3438 - val_acc: 0.9320\n",
            "Epoch 46/100\n",
            "100/100 [==============================] - 33s 331ms/step - loss: 0.1402 - acc: 0.9650 - val_loss: 0.7349 - val_acc: 0.9160\n",
            "Epoch 47/100\n",
            "100/100 [==============================] - 32s 323ms/step - loss: 0.1363 - acc: 0.9620 - val_loss: 0.2914 - val_acc: 0.9440\n",
            "Epoch 48/100\n",
            "100/100 [==============================] - 32s 315ms/step - loss: 0.1619 - acc: 0.9625 - val_loss: 0.3641 - val_acc: 0.9230\n",
            "Epoch 49/100\n",
            "100/100 [==============================] - 31s 315ms/step - loss: 0.1107 - acc: 0.9680 - val_loss: 0.2676 - val_acc: 0.9430\n",
            "Epoch 50/100\n",
            "100/100 [==============================] - 32s 317ms/step - loss: 0.0936 - acc: 0.9695 - val_loss: 0.3831 - val_acc: 0.9380\n",
            "Epoch 51/100\n",
            "100/100 [==============================] - 32s 323ms/step - loss: 0.1177 - acc: 0.9685 - val_loss: 0.3715 - val_acc: 0.9320\n",
            "Epoch 52/100\n",
            "100/100 [==============================] - 32s 315ms/step - loss: 0.1158 - acc: 0.9730 - val_loss: 0.3965 - val_acc: 0.9360\n",
            "Epoch 53/100\n",
            "100/100 [==============================] - 31s 313ms/step - loss: 0.1374 - acc: 0.9630 - val_loss: 0.6400 - val_acc: 0.9180\n",
            "Epoch 54/100\n",
            "100/100 [==============================] - 31s 311ms/step - loss: 0.0780 - acc: 0.9685 - val_loss: 0.5072 - val_acc: 0.9250\n",
            "Epoch 55/100\n",
            "100/100 [==============================] - 32s 321ms/step - loss: 0.1022 - acc: 0.9715 - val_loss: 0.3526 - val_acc: 0.9240\n",
            "Epoch 56/100\n",
            "100/100 [==============================] - 33s 329ms/step - loss: 0.1131 - acc: 0.9685 - val_loss: 0.5844 - val_acc: 0.9420\n",
            "Epoch 57/100\n",
            "100/100 [==============================] - 33s 326ms/step - loss: 0.1088 - acc: 0.9765 - val_loss: 0.8262 - val_acc: 0.9210\n",
            "Epoch 58/100\n",
            "100/100 [==============================] - 32s 325ms/step - loss: 0.1276 - acc: 0.9715 - val_loss: 0.2918 - val_acc: 0.9310\n",
            "Epoch 59/100\n",
            "100/100 [==============================] - 32s 320ms/step - loss: 0.0772 - acc: 0.9745 - val_loss: 0.6033 - val_acc: 0.9290\n",
            "Epoch 60/100\n",
            "100/100 [==============================] - 32s 319ms/step - loss: 0.1034 - acc: 0.9755 - val_loss: 0.6390 - val_acc: 0.9160\n",
            "Epoch 61/100\n",
            "100/100 [==============================] - 32s 320ms/step - loss: 0.1398 - acc: 0.9675 - val_loss: 0.3090 - val_acc: 0.9340\n",
            "Epoch 62/100\n",
            "100/100 [==============================] - 32s 320ms/step - loss: 0.1119 - acc: 0.9615 - val_loss: 0.4859 - val_acc: 0.9080\n",
            "Epoch 63/100\n",
            "100/100 [==============================] - 32s 321ms/step - loss: 0.0950 - acc: 0.9745 - val_loss: 0.4651 - val_acc: 0.9310\n",
            "Epoch 64/100\n",
            "100/100 [==============================] - 32s 320ms/step - loss: 0.1104 - acc: 0.9670 - val_loss: 0.3353 - val_acc: 0.9300\n",
            "Epoch 65/100\n",
            "100/100 [==============================] - 33s 326ms/step - loss: 0.0940 - acc: 0.9780 - val_loss: 0.3794 - val_acc: 0.9350\n",
            "Epoch 66/100\n",
            "100/100 [==============================] - 32s 319ms/step - loss: 0.0996 - acc: 0.9740 - val_loss: 0.4070 - val_acc: 0.9370\n",
            "Epoch 67/100\n",
            "100/100 [==============================] - 35s 347ms/step - loss: 0.0878 - acc: 0.9815 - val_loss: 0.5259 - val_acc: 0.9410\n",
            "Epoch 68/100\n",
            "100/100 [==============================] - 32s 322ms/step - loss: 0.1169 - acc: 0.9730 - val_loss: 0.4281 - val_acc: 0.9320\n",
            "Epoch 69/100\n",
            "100/100 [==============================] - 33s 325ms/step - loss: 0.1414 - acc: 0.9690 - val_loss: 0.3946 - val_acc: 0.9380\n",
            "Epoch 70/100\n",
            "100/100 [==============================] - 33s 325ms/step - loss: 0.1133 - acc: 0.9735 - val_loss: 0.5316 - val_acc: 0.9350\n",
            "Epoch 71/100\n",
            "100/100 [==============================] - 32s 324ms/step - loss: 0.1286 - acc: 0.9750 - val_loss: 1.0062 - val_acc: 0.8870\n",
            "Epoch 72/100\n",
            "100/100 [==============================] - 33s 326ms/step - loss: 0.1096 - acc: 0.9685 - val_loss: 0.4345 - val_acc: 0.9400\n",
            "Epoch 73/100\n",
            "100/100 [==============================] - 33s 325ms/step - loss: 0.1315 - acc: 0.9770 - val_loss: 0.4075 - val_acc: 0.9310\n",
            "Epoch 74/100\n",
            "100/100 [==============================] - 32s 318ms/step - loss: 0.0871 - acc: 0.9760 - val_loss: 0.5458 - val_acc: 0.9290\n",
            "Epoch 75/100\n",
            "100/100 [==============================] - 33s 331ms/step - loss: 0.0562 - acc: 0.9820 - val_loss: 0.6477 - val_acc: 0.9260\n",
            "Epoch 76/100\n",
            "100/100 [==============================] - 32s 320ms/step - loss: 0.1570 - acc: 0.9720 - val_loss: 0.4121 - val_acc: 0.9300\n",
            "Epoch 77/100\n",
            "100/100 [==============================] - 31s 315ms/step - loss: 0.0995 - acc: 0.9755 - val_loss: 0.5395 - val_acc: 0.9220\n",
            "Epoch 78/100\n",
            "100/100 [==============================] - 32s 322ms/step - loss: 0.0631 - acc: 0.9835 - val_loss: 0.5422 - val_acc: 0.9330\n",
            "Epoch 79/100\n",
            "100/100 [==============================] - 32s 318ms/step - loss: 0.0865 - acc: 0.9800 - val_loss: 0.4810 - val_acc: 0.9300\n",
            "Epoch 80/100\n",
            "100/100 [==============================] - 31s 312ms/step - loss: 0.0852 - acc: 0.9835 - val_loss: 0.5535 - val_acc: 0.9300\n",
            "Epoch 81/100\n",
            "100/100 [==============================] - 33s 328ms/step - loss: 0.1142 - acc: 0.9735 - val_loss: 0.4013 - val_acc: 0.9350\n",
            "Epoch 82/100\n",
            "100/100 [==============================] - 33s 328ms/step - loss: 0.0912 - acc: 0.9750 - val_loss: 0.4157 - val_acc: 0.9310\n",
            "Epoch 83/100\n",
            "100/100 [==============================] - 33s 330ms/step - loss: 0.0809 - acc: 0.9795 - val_loss: 0.4197 - val_acc: 0.9410\n",
            "Epoch 84/100\n",
            "100/100 [==============================] - 33s 333ms/step - loss: 0.0953 - acc: 0.9765 - val_loss: 0.6616 - val_acc: 0.9180\n",
            "Epoch 85/100\n",
            "100/100 [==============================] - 33s 330ms/step - loss: 0.0704 - acc: 0.9840 - val_loss: 0.4806 - val_acc: 0.9360\n",
            "Epoch 86/100\n",
            "100/100 [==============================] - 33s 329ms/step - loss: 0.1139 - acc: 0.9800 - val_loss: 0.9834 - val_acc: 0.9060\n",
            "Epoch 87/100\n",
            "100/100 [==============================] - 33s 331ms/step - loss: 0.1094 - acc: 0.9790 - val_loss: 0.4530 - val_acc: 0.9390\n",
            "Epoch 88/100\n",
            "100/100 [==============================] - 33s 328ms/step - loss: 0.0928 - acc: 0.9805 - val_loss: 0.5063 - val_acc: 0.9320\n",
            "Epoch 89/100\n",
            "100/100 [==============================] - 33s 328ms/step - loss: 0.1058 - acc: 0.9835 - val_loss: 0.6357 - val_acc: 0.9230\n",
            "Epoch 90/100\n",
            "100/100 [==============================] - 33s 329ms/step - loss: 0.0906 - acc: 0.9815 - val_loss: 0.4714 - val_acc: 0.9390\n",
            "Epoch 91/100\n",
            "100/100 [==============================] - 33s 329ms/step - loss: 0.0611 - acc: 0.9820 - val_loss: 0.5020 - val_acc: 0.9400\n",
            "Epoch 92/100\n",
            "100/100 [==============================] - 33s 330ms/step - loss: 0.0928 - acc: 0.9810 - val_loss: 0.4631 - val_acc: 0.9450\n",
            "Epoch 93/100\n",
            "100/100 [==============================] - 33s 332ms/step - loss: 0.1429 - acc: 0.9760 - val_loss: 0.3482 - val_acc: 0.9290\n",
            "Epoch 94/100\n",
            "100/100 [==============================] - 34s 337ms/step - loss: 0.0636 - acc: 0.9805 - val_loss: 0.4964 - val_acc: 0.9380\n",
            "Epoch 95/100\n",
            "100/100 [==============================] - 33s 332ms/step - loss: 0.0774 - acc: 0.9805 - val_loss: 0.5864 - val_acc: 0.9300\n",
            "Epoch 96/100\n",
            "100/100 [==============================] - 33s 335ms/step - loss: 0.0958 - acc: 0.9825 - val_loss: 0.5939 - val_acc: 0.9300\n",
            "Epoch 97/100\n",
            "100/100 [==============================] - 33s 329ms/step - loss: 0.0902 - acc: 0.9820 - val_loss: 0.5908 - val_acc: 0.9360\n",
            "Epoch 98/100\n",
            "100/100 [==============================] - 33s 329ms/step - loss: 0.0622 - acc: 0.9865 - val_loss: 0.7553 - val_acc: 0.9180\n",
            "Epoch 99/100\n",
            "100/100 [==============================] - 33s 330ms/step - loss: 0.0853 - acc: 0.9855 - val_loss: 0.6620 - val_acc: 0.9260\n",
            "Epoch 100/100\n",
            "100/100 [==============================] - 33s 331ms/step - loss: 0.0571 - acc: 0.9820 - val_loss: 0.5821 - val_acc: 0.9250\n"
          ],
          "name": "stdout"
        }
      ]
    },
    {
      "metadata": {
        "id": "N8ZmEIBB0VJ6",
        "colab_type": "code",
        "colab": {}
      },
      "cell_type": "code",
      "source": [
        "model.save('cats_and_dogs_small_4.h5')"
      ],
      "execution_count": 0,
      "outputs": []
    },
    {
      "metadata": {
        "id": "3ecvyJHr0VKH",
        "colab_type": "text"
      },
      "cell_type": "markdown",
      "source": [
        "Let's plot our results using the same plotting code as before:"
      ]
    },
    {
      "metadata": {
        "id": "5lhqtWYE0VKM",
        "colab_type": "code",
        "outputId": "14ba7437-6612-41bb-8c57-8cd739486015",
        "colab": {
          "base_uri": "https://localhost:8080/",
          "height": 707
        }
      },
      "cell_type": "code",
      "source": [
        "acc = history.history['acc']\n",
        "val_acc = history.history['val_acc']\n",
        "loss = history.history['loss']\n",
        "val_loss = history.history['val_loss']\n",
        "\n",
        "epochs = range(len(acc))\n",
        "\n",
        "plt.plot(epochs, acc, 'bo', label='Training acc')\n",
        "plt.plot(epochs, val_acc, 'b', label='Validation acc')\n",
        "plt.title('Training and validation accuracy')\n",
        "plt.legend()\n",
        "\n",
        "plt.figure()\n",
        "\n",
        "plt.plot(epochs, loss, 'bo', label='Training loss')\n",
        "plt.plot(epochs, val_loss, 'b', label='Validation loss')\n",
        "plt.title('Training and validation loss')\n",
        "plt.legend()\n",
        "\n",
        "plt.show()"
      ],
      "execution_count": 29,
      "outputs": [
        {
          "output_type": "display_data",
          "data": {
            "image/png": "[encoded data removed]",
            "text/plain": [
              "<Figure size 576x396 with 1 Axes>"
            ]
          },
          "metadata": {
            "tags": []
          }
        },
        {
          "output_type": "display_data",
          "data": {
            "image/png": "[encoded data removed]",
            "text/plain": [
              "<Figure size 576x396 with 1 Axes>"
            ]
          },
          "metadata": {
            "tags": []
          }
        }
      ]
    },
    {
      "metadata": {
        "id": "BanGFkb-0VKf",
        "colab_type": "text"
      },
      "cell_type": "markdown",
      "source": [
        "\n",
        "These curves look very noisy. To make them more readable, we can smooth them by replacing every loss and accuracy with exponential moving \n",
        "averages of these quantities. Here's a trivial utility function to do this:"
      ]
    },
    {
      "metadata": {
        "id": "8EXOJBva0VKk",
        "colab_type": "code",
        "outputId": "10b74e06-260f-41b3-8ff9-93d8c51b6a47",
        "colab": {
          "base_uri": "https://localhost:8080/",
          "height": 707
        }
      },
      "cell_type": "code",
      "source": [
        "def smooth_curve(points, factor=0.8):\n",
        "  smoothed_points = []\n",
        "  for point in points:\n",
        "    if smoothed_points:\n",
        "      previous = smoothed_points[-1]\n",
        "      smoothed_points.append(previous * factor + point * (1 - factor))\n",
        "    else:\n",
        "      smoothed_points.append(point)\n",
        "  return smoothed_points\n",
        "\n",
        "plt.plot(epochs,\n",
        "         smooth_curve(acc), 'bo', label='Smoothed training acc')\n",
        "plt.plot(epochs,\n",
        "         smooth_curve(val_acc), 'b', label='Smoothed validation acc')\n",
        "plt.title('Training and validation accuracy')\n",
        "plt.legend()\n",
        "\n",
        "plt.figure()\n",
        "\n",
        "plt.plot(epochs,\n",
        "         smooth_curve(loss), 'bo', label='Smoothed training loss')\n",
        "plt.plot(epochs,\n",
        "         smooth_curve(val_loss), 'b', label='Smoothed validation loss')\n",
        "plt.title('Training and validation loss')\n",
        "plt.legend()\n",
        "\n",
        "plt.show()"
      ],
      "execution_count": 30,
      "outputs": [
        {
          "output_type": "display_data",
          "data": {
            "image/png": "[encoded data removed]",
            "text/plain": [
              "<Figure size 576x396 with 1 Axes>"
            ]
          },
          "metadata": {
            "tags": []
          }
        },
        {
          "output_type": "display_data",
          "data": {
            "image/png": "[encoded data removed]",
            "text/plain": [
              "<Figure size 576x396 with 1 Axes>"
            ]
          },
          "metadata": {
            "tags": []
          }
        }
      ]
    },
    {
      "metadata": {
        "id": "I8_ECqMO0VKv",
        "colab_type": "text"
      },
      "cell_type": "markdown",
      "source": [
        "\n",
        "These curves look much cleaner and more stable. We are seeing a nice 1% absolute improvement.\n",
        "\n",
        "Note that the loss curve does not show any real improvement (in fact, it is deteriorating). You may wonder, how could accuracy improve if the \n",
        "loss isn't decreasing? The answer is simple: what we display is an average of pointwise loss values, but what actually matters for accuracy \n",
        "is the distribution of the loss values, not their average, since accuracy is the result of a binary thresholding of the class probability \n",
        "predicted by the model. The model may still be improving even if this isn't reflected in the average loss.\n",
        "\n",
        "We can now finally evaluate this model on the test data:"
      ]
    },
    {
      "metadata": {
        "id": "JQAl8QMP0VKz",
        "colab_type": "code",
        "outputId": "2496d766-a48b-4799-dd5c-ef3cbf857ed9",
        "colab": {}
      },
      "cell_type": "code",
      "source": [
        "test_generator = test_datagen.flow_from_directory(\n",
        "        test_dir,\n",
        "        target_size=(150, 150),\n",
        "        batch_size=20,\n",
        "        class_mode='binary')\n",
        "\n",
        "test_loss, test_acc = model.evaluate_generator(test_generator, steps=50)\n",
        "print('test acc:', test_acc)"
      ],
      "execution_count": 0,
      "outputs": [
        {
          "output_type": "stream",
          "text": [
            "Found 1000 images belonging to 2 classes.\n",
            "test acc: 0.967999992371\n"
          ],
          "name": "stdout"
        }
      ]
    },
    {
      "metadata": {
        "id": "gZjkyWCD0VLB",
        "colab_type": "text"
      },
      "cell_type": "markdown",
      "source": [
        "\n",
        "Here we get a test accuracy of 97%. In the original Kaggle competition around this dataset, this would have been one of the top results. \n",
        "However, using modern deep learning techniques, we managed to reach this result using only a very small fraction of the training data \n",
        "available (about 10%). There is a huge difference between being able to train on 20,000 samples compared to 2,000 samples!"
      ]
    },
    {
      "metadata": {
        "id": "UcY025-W0VLK",
        "colab_type": "text"
      },
      "cell_type": "markdown",
      "source": [
        "## Take-aways: using convnets with small datasets\n",
        "\n",
        "Here's what you should take away from the exercises of these past two sections:\n",
        "\n",
        "* Convnets are the best type of machine learning models for computer vision tasks. It is possible to train one from scratch even on a very \n",
        "small dataset, with decent results.\n",
        "* On a small dataset, overfitting will be the main issue. Data augmentation is a powerful way to fight overfitting when working with image \n",
        "data.\n",
        "* It is easy to reuse an existing convnet on a new dataset, via feature extraction. This is a very valuable technique for working with \n",
        "small image datasets.\n",
        "* As a complement to feature extraction, one may use fine-tuning, which adapts to a new problem some of the representations previously \n",
        "learned by an existing model. This pushes performance a bit further.\n",
        "\n",
        "Now you have a solid set of tools for dealing with image classification problems, in particular with small datasets."
      ]
    }
  ]
}