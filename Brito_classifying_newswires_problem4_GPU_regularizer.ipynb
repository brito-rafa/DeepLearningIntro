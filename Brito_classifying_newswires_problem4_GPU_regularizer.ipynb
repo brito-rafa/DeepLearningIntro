{
  "nbformat": 4,
  "nbformat_minor": 0,
  "metadata": {
    "colab": {
      "name": "Brito-classifying-newswires-problem4-GPU-regularizer.ipynb",
      "version": "0.3.2",
      "provenance": [],
      "toc_visible": true,
      "include_colab_link": true
    },
    "kernelspec": {
      "name": "python3",
      "display_name": "Python 3"
    },
    "accelerator": "GPU"
  },
  "cells": [
    {
      "cell_type": "markdown",
      "metadata": {
        "id": "view-in-github",
        "colab_type": "text"
      },
      "source": [
        "<a href=\"https://colab.research.google.com/github/brito-rafa/DeepLearningIntro/blob/master/Brito_classifying_newswires_problem4_GPU_regularizer.ipynb\" target=\"_parent\"><img src=\"https://colab.research.google.com/assets/colab-badge.svg\" alt=\"Open In Colab\"/></a>"
      ]
    },
    {
      "metadata": {
        "id": "5g-ZqYHwpHF6",
        "colab_type": "code",
        "outputId": "edb9b513-0ef6-43e6-ff37-d14c66da80f7",
        "colab": {
          "base_uri": "https://localhost:8080/",
          "height": 51
        }
      },
      "cell_type": "code",
      "source": [
        "import keras\n",
        "keras.__version__"
      ],
      "execution_count": 0,
      "outputs": [
        {
          "output_type": "stream",
          "text": [
            "Using TensorFlow backend.\n"
          ],
          "name": "stderr"
        },
        {
          "output_type": "execute_result",
          "data": {
            "text/plain": [
              "'2.2.4'"
            ]
          },
          "metadata": {
            "tags": []
          },
          "execution_count": 1
        }
      ]
    },
    {
      "metadata": {
        "id": "CHz5R5aVkMPi",
        "colab_type": "code",
        "outputId": "2c9e428c-cc75-4434-9819-5cec96b71b74",
        "colab": {
          "base_uri": "https://localhost:8080/",
          "height": 34
        }
      },
      "cell_type": "code",
      "source": [
        "import tensorflow as tf\n",
        "device_name = tf.test.gpu_device_name()\n",
        "if device_name != '/device:GPU:0':\n",
        "  raise SystemError('GPU device not found')\n",
        "print('Found GPU at: {}'.format(device_name))"
      ],
      "execution_count": 0,
      "outputs": [
        {
          "output_type": "stream",
          "text": [
            "Found GPU at: /device:GPU:0\n"
          ],
          "name": "stdout"
        }
      ]
    },
    {
      "metadata": {
        "id": "UWJVle2KpHGI",
        "colab_type": "code",
        "colab": {}
      },
      "cell_type": "code",
      "source": [
        "from keras.datasets import reuters\n",
        "\n",
        "(train_data, train_labels), (test_data, test_labels) = reuters.load_data(num_words=10000)"
      ],
      "execution_count": 0,
      "outputs": []
    },
    {
      "metadata": {
        "id": "Ps0HORKxpHGP",
        "colab_type": "code",
        "outputId": "9f1657b5-818f-4ac6-cf6e-07b22236961d",
        "colab": {
          "base_uri": "https://localhost:8080/",
          "height": 34
        }
      },
      "cell_type": "code",
      "source": [
        "len(train_data)"
      ],
      "execution_count": 0,
      "outputs": [
        {
          "output_type": "execute_result",
          "data": {
            "text/plain": [
              "8982"
            ]
          },
          "metadata": {
            "tags": []
          },
          "execution_count": 4
        }
      ]
    },
    {
      "metadata": {
        "id": "KGRocb2WpHGV",
        "colab_type": "code",
        "outputId": "15dab453-d6fc-4f4f-c72a-77542b1ec07b",
        "colab": {
          "base_uri": "https://localhost:8080/",
          "height": 34
        }
      },
      "cell_type": "code",
      "source": [
        "len(test_data)"
      ],
      "execution_count": 0,
      "outputs": [
        {
          "output_type": "execute_result",
          "data": {
            "text/plain": [
              "2246"
            ]
          },
          "metadata": {
            "tags": []
          },
          "execution_count": 5
        }
      ]
    },
    {
      "metadata": {
        "id": "4LPHNajypHGc",
        "colab_type": "code",
        "outputId": "d4afee7d-a695-44de-d6ca-c8a93a748620",
        "colab": {
          "base_uri": "https://localhost:8080/",
          "height": 544
        }
      },
      "cell_type": "code",
      "source": [
        "train_data[10]"
      ],
      "execution_count": 0,
      "outputs": [
        {
          "output_type": "execute_result",
          "data": {
            "text/plain": [
              "[1,\n",
              " 245,\n",
              " 273,\n",
              " 207,\n",
              " 156,\n",
              " 53,\n",
              " 74,\n",
              " 160,\n",
              " 26,\n",
              " 14,\n",
              " 46,\n",
              " 296,\n",
              " 26,\n",
              " 39,\n",
              " 74,\n",
              " 2979,\n",
              " 3554,\n",
              " 14,\n",
              " 46,\n",
              " 4689,\n",
              " 4329,\n",
              " 86,\n",
              " 61,\n",
              " 3499,\n",
              " 4795,\n",
              " 14,\n",
              " 61,\n",
              " 451,\n",
              " 4329,\n",
              " 17,\n",
              " 12]"
            ]
          },
          "metadata": {
            "tags": []
          },
          "execution_count": 6
        }
      ]
    },
    {
      "metadata": {
        "id": "vbJkHo7KpHGk",
        "colab_type": "code",
        "colab": {}
      },
      "cell_type": "code",
      "source": [
        "word_index = reuters.get_word_index()\n",
        "reverse_word_index = dict([(value, key) for (key, value) in word_index.items()])\n",
        "# Note that our indices were offset by 3\n",
        "# because 0, 1 and 2 are reserved indices for \"padding\", \"start of sequence\", and \"unknown\".\n",
        "decoded_newswire = ' '.join([reverse_word_index.get(i - 3, '?') for i in train_data[0]])"
      ],
      "execution_count": 0,
      "outputs": []
    },
    {
      "metadata": {
        "id": "2jkNgayYpHGp",
        "colab_type": "code",
        "outputId": "9bea9aec-23fa-43a2-aa39-9b3ff1f0abc4",
        "colab": {
          "base_uri": "https://localhost:8080/",
          "height": 74
        }
      },
      "cell_type": "code",
      "source": [
        "decoded_newswire"
      ],
      "execution_count": 0,
      "outputs": [
        {
          "output_type": "execute_result",
          "data": {
            "text/plain": [
              "'? ? ? said as a result of its december acquisition of space co it expects earnings per share in 1987 of 1 15 to 1 30 dlrs per share up from 70 cts in 1986 the company said pretax net should rise to nine to 10 mln dlrs from six mln dlrs in 1986 and rental operation revenues to 19 to 22 mln dlrs from 12 5 mln dlrs it said cash flow per share this year should be 2 50 to three dlrs reuter 3'"
            ]
          },
          "metadata": {
            "tags": []
          },
          "execution_count": 8
        }
      ]
    },
    {
      "metadata": {
        "id": "ruR1L6BupHGu",
        "colab_type": "code",
        "outputId": "f5b579c8-054a-4bd2-b076-6569468c096d",
        "colab": {
          "base_uri": "https://localhost:8080/",
          "height": 34
        }
      },
      "cell_type": "code",
      "source": [
        "train_labels[0]"
      ],
      "execution_count": 0,
      "outputs": [
        {
          "output_type": "execute_result",
          "data": {
            "text/plain": [
              "3"
            ]
          },
          "metadata": {
            "tags": []
          },
          "execution_count": 9
        }
      ]
    },
    {
      "metadata": {
        "id": "Gou2c0K3pHGz",
        "colab_type": "code",
        "colab": {}
      },
      "cell_type": "code",
      "source": [
        "import numpy as np\n",
        "\n",
        "def vectorize_sequences(sequences, dimension=10000):\n",
        "    results = np.zeros((len(sequences), dimension))\n",
        "    for i, sequence in enumerate(sequences):\n",
        "        results[i, sequence] = 1.\n",
        "    return results\n",
        "\n",
        "# Our vectorized training data\n",
        "x_train = vectorize_sequences(train_data)\n",
        "# Our vectorized test data\n",
        "x_test = vectorize_sequences(test_data)"
      ],
      "execution_count": 0,
      "outputs": []
    },
    {
      "metadata": {
        "id": "81Q-j8dPpHG2",
        "colab_type": "code",
        "colab": {}
      },
      "cell_type": "code",
      "source": [
        "def to_one_hot(labels, dimension=46):\n",
        "    results = np.zeros((len(labels), dimension))\n",
        "    for i, label in enumerate(labels):\n",
        "        results[i, label] = 1.\n",
        "    return results\n",
        "\n",
        "# Our vectorized training labels\n",
        "one_hot_train_labels = to_one_hot(train_labels)\n",
        "# Our vectorized test labels\n",
        "one_hot_test_labels = to_one_hot(test_labels)"
      ],
      "execution_count": 0,
      "outputs": []
    },
    {
      "metadata": {
        "id": "4ThD74WdpHG6",
        "colab_type": "code",
        "outputId": "aef8d44c-f894-4c3f-b396-3f45f7e03497",
        "colab": {
          "base_uri": "https://localhost:8080/",
          "height": 34
        }
      },
      "cell_type": "code",
      "source": [
        "from keras.utils.np_utils import to_categorical\n",
        "\n",
        "one_hot_train_labels = to_categorical(train_labels)\n",
        "one_hot_test_labels = to_categorical(test_labels)\n",
        "one_hot_train_labels.shape"
      ],
      "execution_count": 0,
      "outputs": [
        {
          "output_type": "execute_result",
          "data": {
            "text/plain": [
              "(8982, 46)"
            ]
          },
          "metadata": {
            "tags": []
          },
          "execution_count": 12
        }
      ]
    },
    {
      "metadata": {
        "id": "TxXHvN9vpHG9",
        "colab_type": "code",
        "colab": {}
      },
      "cell_type": "code",
      "source": [
        "from keras import models\n",
        "from keras import layers\n",
        "from keras import regularizers\n",
        "\n",
        "model = models.Sequential()\n",
        "model.add(layers.Dense(64, activation='relu', input_shape=(10000,)))\n",
        "model.add(layers.Dense(64, activation='relu'))\n",
        "model.add(layers.Dense(46, activation='softmax'))\n",
        "\n",
        "l2_001_model = models.Sequential()\n",
        "l2_001_model.add(layers.Dense(64, activation='relu', input_shape=(10000,)))\n",
        "l2_001_model.add(layers.Dense(64, kernel_regularizer=regularizers.l2(0.001),activation='relu'))\n",
        "l2_001_model.add(layers.Dense(46, activation='softmax'))\n",
        "\n",
        "l2_005_model = models.Sequential()\n",
        "l2_005_model.add(layers.Dense(64, activation='relu', input_shape=(10000,)))\n",
        "l2_005_model.add(layers.Dense(64, kernel_regularizer=regularizers.l2(0.005),activation='relu'))\n",
        "l2_005_model.add(layers.Dense(46, activation='softmax'))\n",
        "\n",
        "l2_0005_model = models.Sequential()\n",
        "l2_0005_model.add(layers.Dense(64, activation='relu', input_shape=(10000,)))\n",
        "l2_0005_model.add(layers.Dense(64, kernel_regularizer=regularizers.l2(0.0005),activation='relu'))\n",
        "l2_0005_model.add(layers.Dense(46, activation='softmax'))\n"
      ],
      "execution_count": 0,
      "outputs": []
    },
    {
      "metadata": {
        "id": "fHDtKeyBpHHB",
        "colab_type": "code",
        "colab": {}
      },
      "cell_type": "code",
      "source": [
        "model.compile(optimizer='rmsprop',\n",
        "              loss='categorical_crossentropy',\n",
        "              metrics=['accuracy'])\n",
        "\n",
        "l2_001_model.compile(optimizer='rmsprop',\n",
        "              loss='categorical_crossentropy',\n",
        "              metrics=['accuracy'])\n",
        "\n",
        "\n",
        "l2_005_model.compile(optimizer='rmsprop',\n",
        "              loss='categorical_crossentropy',\n",
        "              metrics=['accuracy'])\n",
        "\n",
        "\n",
        "l2_0005_model.compile(optimizer='rmsprop',\n",
        "              loss='categorical_crossentropy',\n",
        "              metrics=['accuracy'])\n",
        "\n",
        "\n"
      ],
      "execution_count": 0,
      "outputs": []
    },
    {
      "metadata": {
        "id": "pbtjB2aqpHHF",
        "colab_type": "code",
        "outputId": "6a1426ab-4648-4df0-c806-fbfc0ce65545",
        "colab": {
          "base_uri": "https://localhost:8080/",
          "height": 34
        }
      },
      "cell_type": "code",
      "source": [
        "x_val = x_train[:1000]\n",
        "partial_x_train = x_train[1000:]\n",
        "\n",
        "y_val = one_hot_train_labels[:1000]\n",
        "partial_y_train = one_hot_train_labels[1000:]\n",
        "\n",
        "partial_x_train.shape"
      ],
      "execution_count": 0,
      "outputs": [
        {
          "output_type": "execute_result",
          "data": {
            "text/plain": [
              "(7982, 10000)"
            ]
          },
          "metadata": {
            "tags": []
          },
          "execution_count": 17
        }
      ]
    },
    {
      "metadata": {
        "id": "arR5lIElpHHI",
        "colab_type": "text"
      },
      "cell_type": "markdown",
      "source": [
        "Now let's train our network for 20 epochs:"
      ]
    },
    {
      "metadata": {
        "id": "6EGbgTGypHHJ",
        "colab_type": "code",
        "outputId": "10693f4b-3508-4843-be4e-10250f60d6a6",
        "colab": {
          "base_uri": "https://localhost:8080/",
          "height": 1278
        }
      },
      "cell_type": "code",
      "source": [
        "\n",
        "import time\n",
        "\n",
        "start_time = time.time()\n",
        "\n",
        "with tf.device('/gpu:0'):\n",
        "  history = model.fit(partial_x_train,\n",
        "                    partial_y_train,\n",
        "                    epochs=8,\n",
        "                    batch_size=512,\n",
        "                    validation_data=(x_val, y_val))\n",
        "  results = model.evaluate(x_test, one_hot_test_labels)\n",
        "\n",
        "  l2_001_history = l2_001_model.fit(partial_x_train,\n",
        "                    partial_y_train,\n",
        "                    epochs=8,\n",
        "                    batch_size=512,\n",
        "                    validation_data=(x_val, y_val))\n",
        "  l2_001_results = l2_001_model.evaluate(x_test, one_hot_test_labels)\n",
        "  \n",
        "  l2_005_history = l2_005_model.fit(partial_x_train,\n",
        "                    partial_y_train,\n",
        "                    epochs=8,\n",
        "                    batch_size=512,\n",
        "                    validation_data=(x_val, y_val))\n",
        "  l2_005_results = l2_005_model.evaluate(x_test, one_hot_test_labels)\n",
        "  \n",
        "  l2_0005_history = l2_0005_model.fit(partial_x_train,\n",
        "                    partial_y_train,\n",
        "                    epochs=8,\n",
        "                    batch_size=512,\n",
        "                    validation_data=(x_val, y_val))\n",
        "  l2_0005_results = l2_0005_model.evaluate(x_test, one_hot_test_labels)\n",
        "    \n",
        "time_in_seconds = (time.time() - start_time)\n",
        "time_in_seconds = round(time_in_seconds,4)\n",
        "print ('Time in seconds, Google Colaboratory: ', time_in_seconds)"
      ],
      "execution_count": 0,
      "outputs": [
        {
          "output_type": "stream",
          "text": [
            "Train on 7982 samples, validate on 1000 samples\n",
            "Epoch 1/8\n",
            "7982/7982 [==============================] - 1s 73us/step - loss: 0.2989 - acc: 0.9379 - val_loss: 0.9535 - val_acc: 0.7960\n",
            "Epoch 2/8\n",
            "7982/7982 [==============================] - 1s 74us/step - loss: 0.2552 - acc: 0.9445 - val_loss: 0.9325 - val_acc: 0.8140\n",
            "Epoch 3/8\n",
            "7982/7982 [==============================] - 1s 81us/step - loss: 0.2193 - acc: 0.9475 - val_loss: 0.9250 - val_acc: 0.8110\n",
            "Epoch 4/8\n",
            "7982/7982 [==============================] - 1s 70us/step - loss: 0.1904 - acc: 0.9508 - val_loss: 0.9880 - val_acc: 0.7960\n",
            "Epoch 5/8\n",
            "7982/7982 [==============================] - 1s 70us/step - loss: 0.1721 - acc: 0.9548 - val_loss: 0.9518 - val_acc: 0.8160\n",
            "Epoch 6/8\n",
            "7982/7982 [==============================] - 1s 71us/step - loss: 0.1558 - acc: 0.9549 - val_loss: 0.9594 - val_acc: 0.8230\n",
            "Epoch 7/8\n",
            "7982/7982 [==============================] - 1s 69us/step - loss: 0.1432 - acc: 0.9549 - val_loss: 1.0181 - val_acc: 0.8140\n",
            "Epoch 8/8\n",
            "7982/7982 [==============================] - 1s 69us/step - loss: 0.1398 - acc: 0.9535 - val_loss: 1.0152 - val_acc: 0.8040\n",
            "2246/2246 [==============================] - 0s 108us/step\n",
            "Train on 7982 samples, validate on 1000 samples\n",
            "Epoch 1/8\n",
            "7982/7982 [==============================] - 1s 69us/step - loss: 0.3642 - acc: 0.9385 - val_loss: 0.9913 - val_acc: 0.8050\n",
            "Epoch 2/8\n",
            "7982/7982 [==============================] - 1s 71us/step - loss: 0.3265 - acc: 0.9451 - val_loss: 1.0181 - val_acc: 0.8060\n",
            "Epoch 3/8\n",
            "7982/7982 [==============================] - 1s 70us/step - loss: 0.2895 - acc: 0.9500 - val_loss: 0.9915 - val_acc: 0.8290\n",
            "Epoch 4/8\n",
            "7982/7982 [==============================] - 1s 71us/step - loss: 0.2619 - acc: 0.9534 - val_loss: 1.0184 - val_acc: 0.8010\n",
            "Epoch 5/8\n",
            "7982/7982 [==============================] - 1s 68us/step - loss: 0.2465 - acc: 0.9554 - val_loss: 1.0190 - val_acc: 0.8100\n",
            "Epoch 6/8\n",
            "7982/7982 [==============================] - 1s 70us/step - loss: 0.2317 - acc: 0.9551 - val_loss: 1.0646 - val_acc: 0.8100\n",
            "Epoch 7/8\n",
            "7982/7982 [==============================] - 1s 69us/step - loss: 0.2187 - acc: 0.9535 - val_loss: 1.0603 - val_acc: 0.8080\n",
            "Epoch 8/8\n",
            "7982/7982 [==============================] - 1s 69us/step - loss: 0.2086 - acc: 0.9570 - val_loss: 1.0833 - val_acc: 0.8070\n",
            "2246/2246 [==============================] - 0s 93us/step\n",
            "Train on 7982 samples, validate on 1000 samples\n",
            "Epoch 1/8\n",
            "7982/7982 [==============================] - 1s 69us/step - loss: 0.5878 - acc: 0.9243 - val_loss: 1.1066 - val_acc: 0.8130\n",
            "Epoch 2/8\n",
            "7982/7982 [==============================] - 1s 70us/step - loss: 0.5331 - acc: 0.9371 - val_loss: 1.0961 - val_acc: 0.8280\n",
            "Epoch 3/8\n",
            "7982/7982 [==============================] - 1s 70us/step - loss: 0.4888 - acc: 0.9417 - val_loss: 1.1038 - val_acc: 0.8220\n",
            "Epoch 4/8\n",
            "7982/7982 [==============================] - 1s 68us/step - loss: 0.4515 - acc: 0.9464 - val_loss: 1.0949 - val_acc: 0.8120\n",
            "Epoch 5/8\n",
            "7982/7982 [==============================] - 1s 72us/step - loss: 0.4226 - acc: 0.9498 - val_loss: 1.0883 - val_acc: 0.8190\n",
            "Epoch 6/8\n",
            "7982/7982 [==============================] - 1s 68us/step - loss: 0.3975 - acc: 0.9511 - val_loss: 1.1026 - val_acc: 0.8040\n",
            "Epoch 7/8\n",
            "7982/7982 [==============================] - 1s 71us/step - loss: 0.3699 - acc: 0.9538 - val_loss: 1.0837 - val_acc: 0.8190\n",
            "Epoch 8/8\n",
            "7982/7982 [==============================] - 1s 70us/step - loss: 0.3567 - acc: 0.9525 - val_loss: 1.0863 - val_acc: 0.8170\n",
            "2246/2246 [==============================] - 0s 102us/step\n",
            "Train on 7982 samples, validate on 1000 samples\n",
            "Epoch 1/8\n",
            "7982/7982 [==============================] - 1s 71us/step - loss: 0.3288 - acc: 0.9387 - val_loss: 0.9062 - val_acc: 0.8130\n",
            "Epoch 2/8\n",
            "7982/7982 [==============================] - 1s 70us/step - loss: 0.2879 - acc: 0.9416 - val_loss: 0.8919 - val_acc: 0.8220\n",
            "Epoch 3/8\n",
            "7982/7982 [==============================] - 1s 72us/step - loss: 0.2594 - acc: 0.9493 - val_loss: 0.9398 - val_acc: 0.8090\n",
            "Epoch 4/8\n",
            "7982/7982 [==============================] - 1s 70us/step - loss: 0.2261 - acc: 0.9519 - val_loss: 0.9327 - val_acc: 0.8060\n",
            "Epoch 5/8\n",
            "7982/7982 [==============================] - 1s 69us/step - loss: 0.2094 - acc: 0.9530 - val_loss: 0.9646 - val_acc: 0.8120\n",
            "Epoch 6/8\n",
            "7982/7982 [==============================] - 1s 73us/step - loss: 0.1947 - acc: 0.9543 - val_loss: 1.0054 - val_acc: 0.8050\n",
            "Epoch 7/8\n",
            "7982/7982 [==============================] - 1s 69us/step - loss: 0.1829 - acc: 0.9543 - val_loss: 0.9694 - val_acc: 0.8130\n",
            "Epoch 8/8\n",
            "7982/7982 [==============================] - 1s 69us/step - loss: 0.1776 - acc: 0.9550 - val_loss: 0.9941 - val_acc: 0.8040\n",
            "2246/2246 [==============================] - 0s 94us/step\n",
            "Time in seconds, Google Colaboratory:  18.9772\n"
          ],
          "name": "stdout"
        }
      ]
    },
    {
      "metadata": {
        "id": "ky4VYvY7pHHO",
        "colab_type": "code",
        "outputId": "f4be6941-cdad-4cde-8fd6-8979daeb3990",
        "colab": {
          "base_uri": "https://localhost:8080/",
          "height": 376
        }
      },
      "cell_type": "code",
      "source": [
        "import matplotlib.pyplot as plt\n",
        "\n",
        "loss = history.history['loss']\n",
        "val_loss = history.history['val_loss']\n",
        "l2_001_val_loss = l2_001_history.history['val_loss']\n",
        "l2_005_val_loss = l2_005_history.history['val_loss']\n",
        "l2_0005_val_loss = l2_0005_history.history['val_loss']\n",
        "\n",
        "epochs = range(1, len(loss) + 1)\n",
        "\n",
        "#plt.plot(epochs, loss, 'bo', label='Training loss')\n",
        "plt.plot(epochs, val_loss, 'b', label='Original Validation loss')\n",
        "plt.plot(epochs, l2_001_val_loss, 'y', label='l2 0.001 Validation loss')\n",
        "plt.plot(epochs, l2_005_val_loss, 'r', label='l2 0.005 Validation loss')\n",
        "plt.plot(epochs, l2_0005_val_loss, 'g', label='l2 0.0005 Validation loss')\n",
        "plt.title('Training and validation loss')\n",
        "plt.xlabel('Epochs')\n",
        "plt.ylabel('Loss')\n",
        "plt.legend()\n",
        "\n",
        "plt.show()"
      ],
      "execution_count": 0,
      "outputs": [
        {
          "output_type": "display_data",
          "data": {
            "image/png": "[encoded data removed]",
            "text/plain": [
              "<Figure size 576x396 with 1 Axes>"
            ]
          },
          "metadata": {
            "tags": []
          }
        }
      ]
    },
    {
      "metadata": {
        "id": "bCeWeK3lpHHR",
        "colab_type": "code",
        "outputId": "380e9aa1-c499-4e26-abe4-ff9a83ad6e62",
        "colab": {
          "base_uri": "https://localhost:8080/",
          "height": 376
        }
      },
      "cell_type": "code",
      "source": [
        "plt.clf()   # clear figure\n",
        "\n",
        "acc = history.history['acc']\n",
        "val_acc = history.history['val_acc']\n",
        "l2_001_val_acc = l2_001_history.history['val_acc']\n",
        "l2_005_val_acc = l2_005_history.history['val_acc']\n",
        "l2_0005_val_acc = l2_0005_history.history['val_acc']\n",
        "\n",
        "#plt.plot(epochs, acc, 'bo', label='Training acc')\n",
        "plt.plot(epochs, val_acc, 'b', label='Original Validation acc')\n",
        "plt.plot(epochs, l2_001_val_acc, 'y', label='l2 0.001 Validation acc')\n",
        "plt.plot(epochs, l2_005_val_acc, 'r', label='l2 0.005 Validation acc')\n",
        "plt.plot(epochs, l2_0005_val_acc, 'g', label='l2 0.0005 Validation acc')\n",
        "plt.title('Training and validation accuracy')\n",
        "plt.xlabel('Epochs')\n",
        "plt.ylabel('Acc')\n",
        "plt.legend()\n",
        "\n",
        "plt.show()"
      ],
      "execution_count": 0,
      "outputs": [
        {
          "output_type": "display_data",
          "data": {
            "image/png": "[encoded data removed]",
            "text/plain": [
              "<Figure size 576x396 with 1 Axes>"
            ]
          },
          "metadata": {
            "tags": []
          }
        }
      ]
    },
    {
      "metadata": {
        "id": "Yvnlm4QjpHHX",
        "colab_type": "code",
        "outputId": "0efe755d-8552-44e6-b518-1ec7144ba715",
        "colab": {
          "base_uri": "https://localhost:8080/",
          "height": 34
        }
      },
      "cell_type": "code",
      "source": [
        "results"
      ],
      "execution_count": 0,
      "outputs": [
        {
          "output_type": "execute_result",
          "data": {
            "text/plain": [
              "[1.0838601529757466, 0.7876224399462196]"
            ]
          },
          "metadata": {
            "tags": []
          },
          "execution_count": 27
        }
      ]
    },
    {
      "metadata": {
        "id": "g9j222n9Htj0",
        "colab_type": "code",
        "outputId": "74ab119f-0b53-48a4-d2f1-ef21cc051572",
        "colab": {
          "base_uri": "https://localhost:8080/",
          "height": 34
        }
      },
      "cell_type": "code",
      "source": [
        "l2_001_results"
      ],
      "execution_count": 0,
      "outputs": [
        {
          "output_type": "execute_result",
          "data": {
            "text/plain": [
              "[1.1686785556541843, 0.7920747996968874]"
            ]
          },
          "metadata": {
            "tags": []
          },
          "execution_count": 28
        }
      ]
    },
    {
      "metadata": {
        "id": "4lF-1YjYHuV7",
        "colab_type": "code",
        "outputId": "c9f192c8-266f-4428-f73f-e6bb15ff123d",
        "colab": {
          "base_uri": "https://localhost:8080/",
          "height": 34
        }
      },
      "cell_type": "code",
      "source": [
        "l2_005_results"
      ],
      "execution_count": 0,
      "outputs": [
        {
          "output_type": "execute_result",
          "data": {
            "text/plain": [
              "[1.2098871251884997, 0.7889581478183437]"
            ]
          },
          "metadata": {
            "tags": []
          },
          "execution_count": 29
        }
      ]
    },
    {
      "metadata": {
        "id": "hUNPtI1oHu4N",
        "colab_type": "code",
        "outputId": "a4c30c75-4ef5-4021-cfd5-af8a31028cec",
        "colab": {
          "base_uri": "https://localhost:8080/",
          "height": 34
        }
      },
      "cell_type": "code",
      "source": [
        "l2_0005_results"
      ],
      "execution_count": 0,
      "outputs": [
        {
          "output_type": "execute_result",
          "data": {
            "text/plain": [
              "[1.1455538162459036, 0.7876224398931434]"
            ]
          },
          "metadata": {
            "tags": []
          },
          "execution_count": 30
        }
      ]
    },
    {
      "metadata": {
        "id": "6ZMiQqRgpHHa",
        "colab_type": "text"
      },
      "cell_type": "markdown",
      "source": [
        "\n",
        "Our approach reaches an accuracy of ~78%. With a balanced binary classification problem, the accuracy reached by a purely random classifier \n",
        "would be 50%, but in our case it is closer to 19%, so our results seem pretty good, at least when compared to a random baseline:"
      ]
    },
    {
      "metadata": {
        "id": "3S-kfmiEpHHb",
        "colab_type": "code",
        "outputId": "1f5b40fd-6773-4032-a3e1-2112b99fe7ba",
        "colab": {
          "base_uri": "https://localhost:8080/",
          "height": 34
        }
      },
      "cell_type": "code",
      "source": [
        "import copy\n",
        "\n",
        "test_labels_copy = copy.copy(test_labels)\n",
        "np.random.shuffle(test_labels_copy)\n",
        "float(np.sum(np.array(test_labels) == np.array(test_labels_copy))) / len(test_labels)"
      ],
      "execution_count": 0,
      "outputs": [
        {
          "output_type": "execute_result",
          "data": {
            "text/plain": [
              "0.18788958147818344"
            ]
          },
          "metadata": {
            "tags": []
          },
          "execution_count": 32
        }
      ]
    },
    {
      "metadata": {
        "id": "A-ugCzzmpHHe",
        "colab_type": "text"
      },
      "cell_type": "markdown",
      "source": [
        "## Generating predictions on new data\n",
        "\n",
        "We can verify that the `predict` method of our model instance returns a probability distribution over all 46 topics. Let's generate topic \n",
        "predictions for all of the test data:"
      ]
    },
    {
      "metadata": {
        "id": "4GuUTT3CpHHf",
        "colab_type": "code",
        "colab": {}
      },
      "cell_type": "code",
      "source": [
        "predictions = model.predict(x_test)"
      ],
      "execution_count": 0,
      "outputs": []
    },
    {
      "metadata": {
        "id": "wu2PGWgBpHHh",
        "colab_type": "text"
      },
      "cell_type": "markdown",
      "source": [
        "Each entry in `predictions` is a vector of length 46:"
      ]
    },
    {
      "metadata": {
        "id": "zBqov4qwpHHi",
        "colab_type": "code",
        "outputId": "9aa33d29-b92d-4b7d-a022-2fa72f270e82",
        "colab": {}
      },
      "cell_type": "code",
      "source": [
        "predictions[0].shape"
      ],
      "execution_count": 0,
      "outputs": [
        {
          "output_type": "execute_result",
          "data": {
            "text/plain": [
              "(46,)"
            ]
          },
          "metadata": {
            "tags": []
          },
          "execution_count": 31
        }
      ]
    },
    {
      "metadata": {
        "id": "6S1HTom8pHHk",
        "colab_type": "text"
      },
      "cell_type": "markdown",
      "source": [
        "The coefficients in this vector sum to 1:"
      ]
    },
    {
      "metadata": {
        "id": "zWtJBdgYpHHl",
        "colab_type": "code",
        "outputId": "53ff4f13-d96f-4213-e9e3-c349f7390da1",
        "colab": {}
      },
      "cell_type": "code",
      "source": [
        "np.sum(predictions[0])"
      ],
      "execution_count": 0,
      "outputs": [
        {
          "output_type": "execute_result",
          "data": {
            "text/plain": [
              "0.99999994"
            ]
          },
          "metadata": {
            "tags": []
          },
          "execution_count": 32
        }
      ]
    },
    {
      "metadata": {
        "id": "lEWQ-faNpHHp",
        "colab_type": "text"
      },
      "cell_type": "markdown",
      "source": [
        "The largest entry is the predicted class, i.e. the class with the highest probability:"
      ]
    },
    {
      "metadata": {
        "id": "Wxmj9AJ1pHHp",
        "colab_type": "code",
        "outputId": "075e80f4-7a6f-475e-bc98-b111d4db77dd",
        "colab": {}
      },
      "cell_type": "code",
      "source": [
        "np.argmax(predictions[0])"
      ],
      "execution_count": 0,
      "outputs": [
        {
          "output_type": "execute_result",
          "data": {
            "text/plain": [
              "3"
            ]
          },
          "metadata": {
            "tags": []
          },
          "execution_count": 33
        }
      ]
    },
    {
      "metadata": {
        "id": "HDDgCt7opHHr",
        "colab_type": "text"
      },
      "cell_type": "markdown",
      "source": [
        "## A different way to handle the labels and the loss\n",
        "\n",
        "We mentioned earlier that another way to encode the labels would be to cast them as an integer tensor, like such:"
      ]
    },
    {
      "metadata": {
        "id": "w_tVw8B1pHHs",
        "colab_type": "code",
        "colab": {}
      },
      "cell_type": "code",
      "source": [
        "y_train = np.array(train_labels)\n",
        "y_test = np.array(test_labels)"
      ],
      "execution_count": 0,
      "outputs": []
    },
    {
      "metadata": {
        "id": "fxlB5YtKpHHt",
        "colab_type": "text"
      },
      "cell_type": "markdown",
      "source": [
        "\n",
        "The only thing it would change is the choice of the loss function. Our previous loss, `categorical_crossentropy`, expects the labels to \n",
        "follow a categorical encoding. With integer labels, we should use `sparse_categorical_crossentropy`:"
      ]
    },
    {
      "metadata": {
        "id": "7EBDaszdpHHt",
        "colab_type": "code",
        "colab": {}
      },
      "cell_type": "code",
      "source": [
        "model.compile(optimizer='rmsprop', loss='sparse_categorical_crossentropy', metrics=['acc'])"
      ],
      "execution_count": 0,
      "outputs": []
    },
    {
      "metadata": {
        "id": "nu20rqOzpHHv",
        "colab_type": "text"
      },
      "cell_type": "markdown",
      "source": [
        "This new loss function is still mathematically the same as `categorical_crossentropy`; it just has a different interface."
      ]
    },
    {
      "metadata": {
        "id": "DBbFDEYdpHHv",
        "colab_type": "text"
      },
      "cell_type": "markdown",
      "source": [
        "## On the importance of having sufficiently large intermediate layers\n",
        "\n",
        "\n",
        "We mentioned earlier that since our final outputs were 46-dimensional, we should avoid intermediate layers with much less than 46 hidden \n",
        "units. Now let's try to see what happens when we introduce an information bottleneck by having intermediate layers significantly less than \n",
        "46-dimensional, e.g. 4-dimensional."
      ]
    },
    {
      "metadata": {
        "id": "snJng1LwpHHw",
        "colab_type": "code",
        "outputId": "6d0c5393-cb80-47fc-967d-59c58c489a65",
        "colab": {}
      },
      "cell_type": "code",
      "source": [
        "model = models.Sequential()\n",
        "model.add(layers.Dense(64, activation='relu', input_shape=(10000,)))\n",
        "model.add(layers.Dense(4, activation='relu'))\n",
        "model.add(layers.Dense(46, activation='softmax'))\n",
        "\n",
        "model.compile(optimizer='rmsprop',\n",
        "              loss='categorical_crossentropy',\n",
        "              metrics=['accuracy'])\n",
        "\n",
        "model.fit(partial_x_train,\n",
        "          partial_y_train,\n",
        "          epochs=20,\n",
        "          batch_size=128,\n",
        "          validation_data=(x_val, y_val))\n",
        "\n"
      ],
      "execution_count": 0,
      "outputs": [
        {
          "output_type": "stream",
          "text": [
            "Train on 7982 samples, validate on 1000 samples\n",
            "Epoch 1/20\n",
            "7982/7982 [==============================] - 0s - loss: 3.1620 - acc: 0.2295 - val_loss: 2.6750 - val_acc: 0.2740\n",
            "Epoch 2/20\n",
            "7982/7982 [==============================] - 0s - loss: 2.2009 - acc: 0.3829 - val_loss: 1.7626 - val_acc: 0.5990\n",
            "Epoch 3/20\n",
            "7982/7982 [==============================] - 0s - loss: 1.4490 - acc: 0.6486 - val_loss: 1.4738 - val_acc: 0.6390\n",
            "Epoch 4/20\n",
            "7982/7982 [==============================] - 0s - loss: 1.2258 - acc: 0.6776 - val_loss: 1.3961 - val_acc: 0.6570\n",
            "Epoch 5/20\n",
            "7982/7982 [==============================] - 0s - loss: 1.0886 - acc: 0.7032 - val_loss: 1.3727 - val_acc: 0.6700\n",
            "Epoch 6/20\n",
            "7982/7982 [==============================] - 0s - loss: 0.9817 - acc: 0.7494 - val_loss: 1.3682 - val_acc: 0.6800\n",
            "Epoch 7/20\n",
            "7982/7982 [==============================] - 0s - loss: 0.8937 - acc: 0.7757 - val_loss: 1.3587 - val_acc: 0.6810\n",
            "Epoch 8/20\n",
            "7982/7982 [==============================] - 0s - loss: 0.8213 - acc: 0.7942 - val_loss: 1.3548 - val_acc: 0.6960\n",
            "Epoch 9/20\n",
            "7982/7982 [==============================] - 0s - loss: 0.7595 - acc: 0.8088 - val_loss: 1.3883 - val_acc: 0.7050\n",
            "Epoch 10/20\n",
            "7982/7982 [==============================] - 0s - loss: 0.7072 - acc: 0.8193 - val_loss: 1.4216 - val_acc: 0.7020\n",
            "Epoch 11/20\n",
            "7982/7982 [==============================] - 0s - loss: 0.6642 - acc: 0.8254 - val_loss: 1.4405 - val_acc: 0.7020\n",
            "Epoch 12/20\n",
            "7982/7982 [==============================] - 0s - loss: 0.6275 - acc: 0.8281 - val_loss: 1.4938 - val_acc: 0.7080\n",
            "Epoch 13/20\n",
            "7982/7982 [==============================] - 0s - loss: 0.5915 - acc: 0.8353 - val_loss: 1.5301 - val_acc: 0.7110\n",
            "Epoch 14/20\n",
            "7982/7982 [==============================] - 0s - loss: 0.5637 - acc: 0.8419 - val_loss: 1.5400 - val_acc: 0.7080\n",
            "Epoch 15/20\n",
            "7982/7982 [==============================] - 0s - loss: 0.5389 - acc: 0.8523 - val_loss: 1.5826 - val_acc: 0.7090\n",
            "Epoch 16/20\n",
            "7982/7982 [==============================] - 0s - loss: 0.5162 - acc: 0.8588 - val_loss: 1.6391 - val_acc: 0.7080\n",
            "Epoch 17/20\n",
            "7982/7982 [==============================] - 0s - loss: 0.4950 - acc: 0.8623 - val_loss: 1.6469 - val_acc: 0.7060\n",
            "Epoch 18/20\n",
            "7982/7982 [==============================] - 0s - loss: 0.4771 - acc: 0.8670 - val_loss: 1.7258 - val_acc: 0.6950\n",
            "Epoch 19/20\n",
            "7982/7982 [==============================] - 0s - loss: 0.4562 - acc: 0.8718 - val_loss: 1.7667 - val_acc: 0.6930\n",
            "Epoch 20/20\n",
            "7982/7982 [==============================] - 0s - loss: 0.4428 - acc: 0.8742 - val_loss: 1.7785 - val_acc: 0.7060\n"
          ],
          "name": "stdout"
        },
        {
          "output_type": "execute_result",
          "data": {
            "text/plain": [
              "<keras.callbacks.History at 0x7f8ce7cdb9b0>"
            ]
          },
          "metadata": {
            "tags": []
          },
          "execution_count": 42
        }
      ]
    },
    {
      "metadata": {
        "id": "Og90UTzBpHHy",
        "colab_type": "text"
      },
      "cell_type": "markdown",
      "source": [
        "\n",
        "Our network now seems to peak at ~71% test accuracy, a 8% absolute drop. This drop is mostly due to the fact that we are now trying to \n",
        "compress a lot of information (enough information to recover the separation hyperplanes of 46 classes) into an intermediate space that is \n",
        "too low-dimensional. The network is able to cram _most_ of the necessary information into these 8-dimensional representations, but not all \n",
        "of it."
      ]
    },
    {
      "metadata": {
        "id": "mrq-zpMHpHHz",
        "colab_type": "text"
      },
      "cell_type": "markdown",
      "source": [
        "## Further experiments\n",
        "\n",
        "* Try using larger or smaller layers: 32 units, 128 units...\n",
        "* We were using two hidden layers. Now try to use a single hidden layer, or three hidden layers."
      ]
    },
    {
      "metadata": {
        "id": "WMo1DqPupHH0",
        "colab_type": "text"
      },
      "cell_type": "markdown",
      "source": [
        "## Wrapping up\n",
        "\n",
        "\n",
        "Here's what you should take away from this example:\n",
        "\n",
        "* If you are trying to classify data points between N classes, your network should end with a `Dense` layer of size N.\n",
        "* In a single-label, multi-class classification problem, your network should end with a `softmax` activation, so that it will output a \n",
        "probability distribution over the N output classes.\n",
        "* _Categorical crossentropy_ is almost always the loss function you should use for such problems. It minimizes the distance between the \n",
        "probability distributions output by the network, and the true distribution of the targets.\n",
        "* There are two ways to handle labels in multi-class classification:\n",
        "    ** Encoding the labels via \"categorical encoding\" (also known as \"one-hot encoding\") and using `categorical_crossentropy` as your loss \n",
        "function.\n",
        "    ** Encoding the labels as integers and using the `sparse_categorical_crossentropy` loss function.\n",
        "* If you need to classify data into a large number of categories, then you should avoid creating information bottlenecks in your network by having \n",
        "intermediate layers that are too small."
      ]
    }
  ]
}